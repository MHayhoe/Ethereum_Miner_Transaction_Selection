{
 "cells": [
  {
   "cell_type": "code",
   "execution_count": 1,
   "metadata": {},
   "outputs": [],
   "source": [
    "from pathlib import Path\n",
    "import sqlite3\n",
    "from contextlib import closing\n",
    "from time import time\n",
    "import pandas as pd\n",
    "import csv\n",
    "\n",
    "sql_file = \"all_txs.sql\""
   ]
  },
  {
   "cell_type": "code",
   "execution_count": 2,
   "metadata": {},
   "outputs": [],
   "source": [
    "# Takes the provided CSV file and places it into a table called table_name in the sqlite\n",
    "# database specified by sql_file. Creates the sqlite database file if it does not exist,\n",
    "# and drops and creates a new table if one already exists with the same name.\n",
    "def csv_to_sql(csv_file, sql_file, table_name):\n",
    "    # Creates the sqlite file, if it does not already exist\n",
    "    Path(sql_file).touch(exist_ok=True)\n",
    "    \n",
    "    # Read the CSV into a pandas dataframe. Since minerRevenue can be too large to fit\n",
    "    # as an integer, convert it to a string.\n",
    "    df = pd.read_csv(csv_file, converters={'minerRevenue': str})\n",
    "    column_names = tuple(df.columns)\n",
    "    \n",
    "    # Some values are too large to store as integers, so save them as text, if they exist\n",
    "    dtypes = {k: 'INTEGER' for k in column_names}\n",
    "    if 'hash' in column_names:\n",
    "        dtypes['hash'] = 'TEXT'\n",
    "    if 'miner' in column_names:\n",
    "        dtypes['miner'] = 'TEXT'\n",
    "    if 'minerRevenue' in column_names:\n",
    "        dtypes['minerRevenue'] = 'TEXT'\n",
    "    \n",
    "    # Create a connection and cursor for the sqlite file\n",
    "    with closing(sqlite3.connect(sql_file)) as conn: # auto-closes the connection\n",
    "        with conn, closing(conn.cursor()) as cur:    # auto-commits connection and auto-closes cursor\n",
    "            # Drop the current table, if it exists\n",
    "            cur.execute(\"DROP TABLE IF EXISTS \" + table_name)\n",
    "\n",
    "            # Create the table, with appropriate attributes\n",
    "            cur.execute(\"CREATE TABLE \" + table_name + \" \" + str(column_names))\n",
    "\n",
    "            # Put the pandas dataframe into the newly created table\n",
    "            df.to_sql(table_name, conn, if_exists='append', index=False, dtype=dtypes)"
   ]
  },
  {
   "cell_type": "code",
   "execution_count": 3,
   "metadata": {},
   "outputs": [],
   "source": [
    "# Executes the provided query using the sqlite database in the file specified by sql_file.\n",
    "# Automatically commits changes and closes the connection and cursor when done.\n",
    "def query(query, sql_file=sql_file):\n",
    "    # Create a connection and cursor for the sqlite file\n",
    "    with closing(sqlite3.connect(sql_file)) as conn: # auto-closes the connection\n",
    "        with conn, closing(conn.cursor()) as cur:    # auto-commits connection and auto-closes cursor\n",
    "            cur.execute(query)\n",
    "            return cur.fetchall()"
   ]
  },
  {
   "cell_type": "code",
   "execution_count": 4,
   "metadata": {},
   "outputs": [],
   "source": [
    "# Finds the actual gas used for each transaction, if it exists, and places it into the table for later reference.\n",
    "def create_gas_used_table(gas_table_name, pending_txs_name, txs_name, confirmed_pending_name):\n",
    "    query(f\"DROP TABLE IF EXISTS {gas_table_name}\")\n",
    "    query(  f'''CREATE TABLE {gas_table_name} AS\n",
    "                WITH stage AS (\n",
    "                    SELECT hash, gasLimit\n",
    "                    FROM {pending_txs_name}\n",
    "                    GROUP BY hash),\n",
    "                confirmed_stage AS (\n",
    "                    SELECT hash, gasUsed\n",
    "                    FROM {confirmed_pending_name}\n",
    "                    GROUP BY hash)\n",
    "                SELECT stage.hash, MIN(IFNULL({txs_name}.gasUsed, stage.gasLimit),\n",
    "                                       IFNULL(confirmed_stage.gasUsed, stage.gasLimit)) AS minGasUsed\n",
    "                FROM stage\n",
    "                LEFT JOIN {txs_name} ON stage.hash = {txs_name}.hash\n",
    "                LEFT JOIN confirmed_stage ON stage.hash = confirmed_stage.hash''') "
   ]
  },
  {
   "cell_type": "code",
   "execution_count": 5,
   "metadata": {},
   "outputs": [],
   "source": [
    "# Updates the pending transactions table with information on gas used and prices paid\n",
    "# For each block, keeps only one copy of each transaction if there are multiple with the same hash.\n",
    "# Also cleans up the pending transactions, by examining transactions from the same sender with the same nonce\n",
    "# and keeping only one of them. The transaction to be kept is chosen based on the following criteria, where\n",
    "# we move on to the next criteria only if all preceding ones are identical:\n",
    "# 1. maxPriorityFeePerGas: max priority fee being offered (highest first, nulls put last)\n",
    "# 2. maxFeePerGas: max total fee being offered (highest first, nulls put last)\n",
    "# 3. gasPrice: amount of gas offered (highest first, nulls put last)\n",
    "# 4. hash: Finally, if all else is equal somehow, arbitrarily break ties using the highest-value of hash\n",
    "def update_pending_txs(pending_txs_name, blocks_name, gas_table_name, updated_name=None):\n",
    "    # Make a new table\n",
    "    if updated_name is None:\n",
    "        temp_table = pending_txs_name + '_temp'\n",
    "    else:\n",
    "        temp_table = updated_name\n",
    "    query(f\"DROP TABLE IF EXISTS {temp_table}\")\n",
    "    query(f'''CREATE TABLE {temp_table} AS\n",
    "              WITH stage AS (\n",
    "                  SELECT *,\n",
    "                      IFNULL({pending_txs_name}.gasPrice - baseFeePerGas,\n",
    "                             MIN(maxPriorityFeePerGas, maxFeePerGas - baseFeePerGas)) AS netGasPrice\n",
    "                  FROM {pending_txs_name}\n",
    "                  LEFT JOIN {blocks_name}\n",
    "                      ON {pending_txs_name}.lastBlock = {blocks_name}.blockNumber\n",
    "                  LEFT JOIN {gas_table_name} \n",
    "                      ON {pending_txs_name}.hash = {gas_table_name}.hash\n",
    "                  WHERE NOT {pending_txs_name}.category = \"queued\"),\n",
    "              stage_row_counts AS (\n",
    "                  SELECT *, ROW_NUMBER() OVER (PARTITION BY hash, lastBlock) AS row_num_hash,\n",
    "                      ROW_NUMBER() OVER (PARTITION BY sender, nonce, lastBlock ORDER BY netGasPrice DESC) AS row_num_price\n",
    "                  FROM stage\n",
    "                  WHERE stage.netGasPrice > 0)\n",
    "              SELECT stage_row_counts.hash, stage_row_counts.lastBlock, sender, nonce, minGasUsed AS gasUsed, gasLimit, netGasPrice as gasPrice\n",
    "              FROM stage_row_counts\n",
    "              WHERE row_num_hash = 1\n",
    "              AND row_num_price = 1''')\n",
    "    \n",
    "    # Replace the old one, if we didn't want to make a new separate table\n",
    "    if updated_name is None:\n",
    "        query(f\"DROP TABLE {pending_txs_name}\")\n",
    "        query(f\"ALTER TABLE {temp_table} RENAME TO {pending_txs_name}\")"
   ]
  },
  {
   "cell_type": "code",
   "execution_count": 6,
   "metadata": {},
   "outputs": [],
   "source": [
    "# Names of tables\n",
    "pending_txs_name = \"pending_txs\"\n",
    "pending_raw_name = \"pending_txs_raw\"\n",
    "gas_table_name = \"pending_txs_gas\"\n",
    "txs_name = \"txs\"\n",
    "confirmed_pending_name = \"confirmed_pending_txs\"\n",
    "blocks_name = \"blocks\""
   ]
  },
  {
   "cell_type": "code",
   "execution_count": 7,
   "metadata": {},
   "outputs": [
    {
     "ename": "AttributeError",
     "evalue": "module 'pandas' has no attribute 'read_csv'",
     "output_type": "error",
     "traceback": [
      "\u001b[0;31m---------------------------------------------------------------------------\u001b[0m",
      "\u001b[0;31mAttributeError\u001b[0m                            Traceback (most recent call last)",
      "\u001b[0;32m<ipython-input-7-6a3dc53755d8>\u001b[0m in \u001b[0;36m<module>\u001b[0;34m\u001b[0m\n\u001b[1;32m      1\u001b[0m \u001b[0;31m# Load all CSVs and put them into sqlite tables in the same database, stored in the file sql_file\u001b[0m\u001b[0;34m\u001b[0m\u001b[0;34m\u001b[0m\u001b[0;34m\u001b[0m\u001b[0m\n\u001b[0;32m----> 2\u001b[0;31m \u001b[0mcsv_to_sql\u001b[0m\u001b[0;34m(\u001b[0m\u001b[0;34m\"confirmed_txs.csv\"\u001b[0m\u001b[0;34m,\u001b[0m \u001b[0msql_file\u001b[0m\u001b[0;34m,\u001b[0m \u001b[0mtxs_name\u001b[0m\u001b[0;34m)\u001b[0m\u001b[0;34m\u001b[0m\u001b[0;34m\u001b[0m\u001b[0m\n\u001b[0m\u001b[1;32m      3\u001b[0m \u001b[0mcsv_to_sql\u001b[0m\u001b[0;34m(\u001b[0m\u001b[0;34m\"pending_txs_erigon.csv\"\u001b[0m\u001b[0;34m,\u001b[0m \u001b[0msql_file\u001b[0m\u001b[0;34m,\u001b[0m \u001b[0mpending_raw_name\u001b[0m\u001b[0;34m)\u001b[0m\u001b[0;34m\u001b[0m\u001b[0;34m\u001b[0m\u001b[0m\n\u001b[1;32m      4\u001b[0m \u001b[0mcsv_to_sql\u001b[0m\u001b[0;34m(\u001b[0m\u001b[0;34m\"confirmed_mempool_txs_erigon.csv\"\u001b[0m\u001b[0;34m,\u001b[0m \u001b[0msql_file\u001b[0m\u001b[0;34m,\u001b[0m \u001b[0mconfirmed_pending_name\u001b[0m\u001b[0;34m)\u001b[0m\u001b[0;34m\u001b[0m\u001b[0;34m\u001b[0m\u001b[0m\n\u001b[1;32m      5\u001b[0m \u001b[0mcsv_to_sql\u001b[0m\u001b[0;34m(\u001b[0m\u001b[0;34m\"blocks.csv\"\u001b[0m\u001b[0;34m,\u001b[0m \u001b[0msql_file\u001b[0m\u001b[0;34m,\u001b[0m \u001b[0mblocks_name\u001b[0m\u001b[0;34m)\u001b[0m\u001b[0;34m\u001b[0m\u001b[0;34m\u001b[0m\u001b[0m\n",
      "\u001b[0;32m<ipython-input-2-d17b7b881ca8>\u001b[0m in \u001b[0;36mcsv_to_sql\u001b[0;34m(csv_file, sql_file, table_name)\u001b[0m\n\u001b[1;32m      8\u001b[0m     \u001b[0;31m# Read the CSV into a pandas dataframe. Since minerRevenue can be too large to fit\u001b[0m\u001b[0;34m\u001b[0m\u001b[0;34m\u001b[0m\u001b[0;34m\u001b[0m\u001b[0m\n\u001b[1;32m      9\u001b[0m     \u001b[0;31m# as an integer, convert it to a string.\u001b[0m\u001b[0;34m\u001b[0m\u001b[0;34m\u001b[0m\u001b[0;34m\u001b[0m\u001b[0m\n\u001b[0;32m---> 10\u001b[0;31m     \u001b[0mdf\u001b[0m \u001b[0;34m=\u001b[0m \u001b[0mpd\u001b[0m\u001b[0;34m.\u001b[0m\u001b[0mread_csv\u001b[0m\u001b[0;34m(\u001b[0m\u001b[0mcsv_file\u001b[0m\u001b[0;34m,\u001b[0m \u001b[0mconverters\u001b[0m\u001b[0;34m=\u001b[0m\u001b[0;34m{\u001b[0m\u001b[0;34m'minerRevenue'\u001b[0m\u001b[0;34m:\u001b[0m \u001b[0mstr\u001b[0m\u001b[0;34m}\u001b[0m\u001b[0;34m)\u001b[0m\u001b[0;34m\u001b[0m\u001b[0;34m\u001b[0m\u001b[0m\n\u001b[0m\u001b[1;32m     11\u001b[0m     \u001b[0mcolumn_names\u001b[0m \u001b[0;34m=\u001b[0m \u001b[0mtuple\u001b[0m\u001b[0;34m(\u001b[0m\u001b[0mdf\u001b[0m\u001b[0;34m.\u001b[0m\u001b[0mcolumns\u001b[0m\u001b[0;34m)\u001b[0m\u001b[0;34m\u001b[0m\u001b[0;34m\u001b[0m\u001b[0m\n\u001b[1;32m     12\u001b[0m \u001b[0;34m\u001b[0m\u001b[0m\n",
      "\u001b[0;31mAttributeError\u001b[0m: module 'pandas' has no attribute 'read_csv'"
     ]
    }
   ],
   "source": [
    "# Load all CSVs and put them into sqlite tables in the same database, stored in the file sql_file\n",
    "csv_to_sql(\"confirmed_txs.csv\", sql_file, txs_name)\n",
    "csv_to_sql(\"pending_txs_erigon.csv\", sql_file, pending_raw_name)\n",
    "csv_to_sql(\"confirmed_mempool_txs_erigon.csv\", sql_file, confirmed_pending_name)\n",
    "csv_to_sql(\"blocks.csv\", sql_file, blocks_name)"
   ]
  },
  {
   "cell_type": "code",
   "execution_count": null,
   "metadata": {},
   "outputs": [],
   "source": [
    "# Get all values of gas used\n",
    "create_gas_used_table(gas_table_name, pending_raw_name, txs_name, confirmed_pending_name)"
   ]
  },
  {
   "cell_type": "code",
   "execution_count": null,
   "metadata": {},
   "outputs": [],
   "source": [
    "# Update the pending transaction table with actual gas prices used (if available) and gas prices paid,\n",
    "# and then remove unnecessary columns.\n",
    "update_pending_txs(pending_raw_name, blocks_name, gas_table_name, pending_txs_name)"
   ]
  },
  {
   "cell_type": "code",
   "execution_count": null,
   "metadata": {},
   "outputs": [],
   "source": []
  }
 ],
 "metadata": {
  "kernelspec": {
   "display_name": "Python 3",
   "language": "python",
   "name": "python3"
  },
  "language_info": {
   "codemirror_mode": {
    "name": "ipython",
    "version": 3
   },
   "file_extension": ".py",
   "mimetype": "text/x-python",
   "name": "python",
   "nbconvert_exporter": "python",
   "pygments_lexer": "ipython3",
   "version": "3.7.4"
  }
 },
 "nbformat": 4,
 "nbformat_minor": 4
}
