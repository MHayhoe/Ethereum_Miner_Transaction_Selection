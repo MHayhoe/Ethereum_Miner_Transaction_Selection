{
 "cells": [
  {
   "cell_type": "code",
   "execution_count": 1,
   "metadata": {},
   "outputs": [],
   "source": [
    "from pathlib import Path\n",
    "import pickle\n",
    "import sqlite3\n",
    "from contextlib import closing\n",
    "from time import time\n",
    "import pandas as pd\n",
    "import csv\n",
    "import numpy as np\n",
    "import math\n",
    "from tqdm import tqdm\n",
    "import random\n",
    "import matplotlib.pyplot as plt\n",
    "\n",
    "sql_file = \"all_txs.sql\""
   ]
  },
  {
   "cell_type": "code",
   "execution_count": 2,
   "metadata": {},
   "outputs": [],
   "source": [
    "# Executes the provided query using the sqlite database in the file specified by sql_file.\n",
    "# Automatically commits changes and closes the connection and cursor when done.\n",
    "def query(query, sql_file=sql_file):\n",
    "    # Create a connection and cursor for the sqlite file\n",
    "    with closing(sqlite3.connect(sql_file)) as conn: # auto-closes the connection\n",
    "        with conn, closing(conn.cursor()) as cur:    # auto-commits connection and auto-closes cursor\n",
    "            cur.execute(query)\n",
    "            return cur.fetchall()"
   ]
  },
  {
   "cell_type": "code",
   "execution_count": 3,
   "metadata": {},
   "outputs": [],
   "source": [
    "#!!!!!!!!!\n",
    "# Older version, DOES NOT WORK after changes to Load_Transactions.ipynb\n",
    "# Gets the price to weight ratio (gas price) for all pending transactions\n",
    "def get_ratios_OLD(block_number):\n",
    "    # Get the base fee\n",
    "    baseFee_query = query(f\"SELECT baseFeePerGas FROM blocks WHERE blockNumber == {block_number} LIMIT 1\")\n",
    "    \n",
    "    # If nothing was returned, we don't know this block number\n",
    "    if len(baseFee_query) == 0:\n",
    "        raise ValueError('No block with this number in blocks table!')\n",
    "    else:\n",
    "        baseFee = float(baseFee_query[0][0])\n",
    "    \n",
    "    # Get the gas prices, and return them\n",
    "    query_list = query( f'''SELECT hash, maxFeePerGas, maxPriorityFeePerGas, gasPrice \n",
    "                            FROM pending_txs\n",
    "                            WHERE lastBlock == {block_number}''')\n",
    "    ratios = {tx_hash: min(baseFee + priorityFee, maxFee) if maxFee is not None else gasPrice\n",
    "              for tx_hash, maxFee, priorityFee, gasPrice in query_list}\n",
    "    return ratios\n",
    "\n",
    "# Gets the weight (total gas required) for all pending transactions\n",
    "def get_weights_OLD(block_number):\n",
    "    # Get the gas used for each pending transaction from the txs and/or confirmed_pending_txs tables\n",
    "    '''query_list = query(f\"WITH stage AS (SELECT * from pending_txs \" +\n",
    "                                            f\"WHERE pending_txs.lastBlock == {block_number}) \" +\n",
    "                            \"SELECT stage.hash, txs.gasUsed, confirmed_pending_txs.gasUsed, stage.gasLimit \" +\n",
    "                            \"FROM (stage LEFT JOIN txs on stage.hash = txs.hash) \" +\n",
    "                               \"LEFT JOIN confirmed_pending_txs on stage.hash = confirmed_pending_txs.hash \")'''\n",
    "    query_list = query( f'''WITH stage AS (\n",
    "                                SELECT * from pending_txs\n",
    "                                WHERE pending_txs.lastBlock == {block_number}\n",
    "                            SELECT hash, minGasUsed\n",
    "                            FROM stage LEFT JOIN pending_txs_gas ON stage.hash = pending_txs_gas.hash''')\n",
    "    \n",
    "    # Get the weights. Set to None if gasUsed is missing from both the txs and confirmed_pending_txs\n",
    "    # tables, otherwise one of those if gasUsed is in one table and not the other, otherwise the\n",
    "    # minimum of the two if it is present in both tables.\n",
    "    weights = {tx_hash: pick_tx_weight(weight_txs, weight_confirmed, gas_limit) for tx_hash, weight_txs, weight_confirmed, gas_limit in query_list}\n",
    "    \n",
    "    # query_list = query(f\"SELECT hash, gasLimit FROM pending_txs WHERE lastBlock == {block_number}\")\n",
    "    # weights = {tx_hash: weight for tx_hash, weight in query_list}\n",
    "    \n",
    "    return weights\n",
    "\n",
    "# Returns pending transactions, including the hash, price-to-weight ratio, and weight, sorted\n",
    "# by the price-to-weight ratio\n",
    "def get_pending_txs_OLD(block_number, verbose=False):\n",
    "    if verbose:\n",
    "        start_time = time()\n",
    "        \n",
    "    # Get the price-to-weight ratios (gas prices) of all pending transactions\n",
    "    if verbose:\n",
    "        print(\"Getting price-to-weight ratios...\")\n",
    "    ratios = get_ratios_OLD(block_number)\n",
    "    \n",
    "    # Get the weights (gas amounts) of all pending transactions\n",
    "    if verbose:\n",
    "        print(\"Getting weights...\")\n",
    "    weights = get_weights_OLD(block_number)\n",
    "    \n",
    "    # Put the list of pending transactions together, and sort by price-to-weight ratio.\n",
    "    # Only considers pending transactions that have both a ratio and a weight.\n",
    "    if verbose:\n",
    "        print(\"Sorting by weight...\")\n",
    "    tx_hashes = set(ratios.keys()).intersection(weights.keys())\n",
    "    pending_txs = [(tx_hash, ratios[tx_hash], weights[tx_hash]) for tx_hash in tx_hashes]\n",
    "    pending_txs = sorted(pending_txs, key = lambda x: x[1], reverse=True)\n",
    "    \n",
    "    if verbose:\n",
    "        end_time = time()\n",
    "        print(f\"Found {len(pending_txs)} pending txs in {end_time - start_time:.2f}s\")\n",
    "    \n",
    "    return pending_txs"
   ]
  },
  {
   "cell_type": "code",
   "execution_count": 4,
   "metadata": {},
   "outputs": [],
   "source": [
    "# Returns pending transactions, including the hash, price-to-weight ratio, and weight, sorted\n",
    "# by the price-to-weight ratio\n",
    "def get_pending_txs(block_number, belowGasLimit=False, includeMinedTxs=False, verbose=False):\n",
    "    if verbose:\n",
    "        print('Getting transactions...')\n",
    "        start_time = time()\n",
    "        \n",
    "    # Get the pending transactions\n",
    "    query_str = f'''SELECT hash, gasPrice, gasUsed\n",
    "                    FROM pending_txs\n",
    "                    WHERE lastBlock = {block_number}'''\n",
    "    \n",
    "    # We only want transactions that used less gas than the gas limit, i.e., that were ever\n",
    "    # actually mined\n",
    "    if belowGasLimit:\n",
    "        query_str += ' AND gasUsed < gasLimit'\n",
    "    \n",
    "    # We want to include transactions that were not public but that the miner packed in the\n",
    "    # block, i.e., they had some private access to these transactions\n",
    "    if includeMinedTxs:\n",
    "        query_str += f''' UNION\n",
    "                          SELECT hash, gasPrice, gasUsed\n",
    "                          FROM txs\n",
    "                          WHERE blockNumber = {block_number}'''\n",
    "\n",
    "    # Run the query\n",
    "    query_list = query(query_str)\n",
    "    \n",
    "    # Put the list of pending transactions together, and sort by price-to-weight ratio.\n",
    "    if verbose:\n",
    "        print(\"Sorting by price-to-weight ratio...\")\n",
    "    pending_txs = [(tx_hash, price_ratio, weight) for (tx_hash, price_ratio, weight) in query_list]\n",
    "    pending_txs = sorted(pending_txs, key = lambda x: x[1], reverse=True)\n",
    "    \n",
    "    if verbose:\n",
    "        end_time = time()\n",
    "        print(f\"Found {len(pending_txs)} pending txs in {end_time - start_time:.2f}s\")\n",
    "    \n",
    "    return pending_txs"
   ]
  },
  {
   "cell_type": "code",
   "execution_count": 15,
   "metadata": {},
   "outputs": [],
   "source": [
    "# Use the greedy algorithm to pack transactions into a block. Sort the pending transactions\n",
    "# by price-to-weight ratio (gas price), then pack by weight until full. Once a transaction\n",
    "# no longer fits in the block, continue moving down the sorted list until the block is full\n",
    "# or there are no more pending transactions to consider.\n",
    "# For each\n",
    "def greedy_packing(pending_txs, block_number, verbose=False):\n",
    "    # If verbose, compute total elapsed time\n",
    "    if verbose:\n",
    "        start_time = time()\n",
    "    \n",
    "    # Get the smallest weight of any transaction\n",
    "    min_weight = np.min([x[2] for x in pending_txs])\n",
    "    \n",
    "    # Get the gas limit for this block\n",
    "    gasLimit_query = query(f\"SELECT gasLimit FROM blocks WHERE blockNumber == {block_number}\")\n",
    "    gasLimit = float(gasLimit_query[0][0])\n",
    "    \n",
    "    # Start packing transactions\n",
    "    tx_packed = []\n",
    "    gas_packed = 0\n",
    "    \n",
    "    # Pack the block until it is full or we have considered all transactions\n",
    "    for tx_hash, ratio, weight in pending_txs:\n",
    "        # If there is room, pack this transaction, along with the profit it produced\n",
    "        if gas_packed + weight <= gasLimit:\n",
    "            tx_packed.append((tx_hash, ratio * weight, ratio, weight))\n",
    "            gas_packed += weight\n",
    "            \n",
    "            # If the block cannot fit any more transactions, stop packing\n",
    "            if gas_packed > gasLimit - min_weight:\n",
    "                break\n",
    "    \n",
    "    if verbose:\n",
    "        end_time = time()\n",
    "        revenue_query = query(f\"SELECT minerRevenue FROM blocks WHERE blockNumber == {block_number}\")\n",
    "        revenue = float(revenue_query[0][0]) * 10**(-18)\n",
    "        earned_revenue = sum([x[1] for x in tx_packed]) * 10**(-18)\n",
    "        print(f\"Packed {len(tx_packed)} txs in {end_time - start_time:.4f}s for revenue of {earned_revenue :0.5f} ETH ({(earned_revenue - revenue)/revenue*100:.2f}% increase over {revenue:0.5f} ETH), \" +\n",
    "              f\"using {gas_packed} of max {int(gasLimit)} gas (wasted {int(gasLimit) - gas_packed} gas, i.e., {(gasLimit - gas_packed) / gasLimit * 100 :.2f}%)\")\n",
    "        \n",
    "    return tx_packed"
   ]
  },
  {
   "cell_type": "code",
   "execution_count": 6,
   "metadata": {},
   "outputs": [],
   "source": [
    "# Use dynamic programming to pack transactions into a block. Following pseudocode from\n",
    "# page 14 of https://www.es.ele.tue.nl/education/5MC10/Solutions/knapsack.pdf\n",
    "def DP_packing(pending_txs, block_number, weight_factor=1, verbose=False):\n",
    "    # If verbose, compute total elapsed time\n",
    "    if verbose:\n",
    "        start_time = time()\n",
    "    \n",
    "    # Get the smallest weight of any transaction\n",
    "    min_weight = np.min([x[2] for x in pending_txs])\n",
    "    \n",
    "    # Get the gas limit for this block\n",
    "    gasLimit_query = query(f\"SELECT gasLimit FROM blocks WHERE blockNumber == {block_number}\")\n",
    "    gasLimit_unweighted = int(gasLimit_query[0][0])\n",
    "    gasLimit = math.floor(gasLimit_unweighted / weight_factor)\n",
    "    \n",
    "    ### DYNAMIC PROGRAMMING ###\n",
    "    # For keeping track of total value packed\n",
    "    V = np.zeros((gasLimit + 1,))\n",
    "    V_old = np.zeros((gasLimit + 1,))\n",
    "    # For keeping track of which transactions are packed\n",
    "    keep = np.full((len(pending_txs), gasLimit + 1), False, dtype=bool)\n",
    "    num_txs = len(pending_txs)\n",
    "    \n",
    "    if verbose:\n",
    "        print(f\"Finding best packing with {num_txs} txs for weight limit {gasLimit} (weight reduction factor {weight_factor})\")\n",
    "    \n",
    "    # Loop through all pending transactions\n",
    "    for tx_ind in tqdm(range(0, num_txs)):\n",
    "        # Store weight and revenue of the transactions\n",
    "        tx_weight = int(math.ceil(pending_txs[tx_ind][2] / weight_factor))\n",
    "        tx_value = tx_weight * pending_txs[tx_ind][1]\n",
    "        \n",
    "        # Loop through all possible weights\n",
    "        for w in range(tx_weight, gasLimit + 1):\n",
    "            # If this transaction fits, update total value\n",
    "            if tx_value + V_old[w - tx_weight] > V_old[w]:\n",
    "                # If including this transaction results in a larger value, include it.\n",
    "                # Otherwise, we can do no worse than we did before.\n",
    "                V[w] = tx_value + V_old[w - tx_weight]\n",
    "                keep[tx_ind, w] = True\n",
    "        # On to the next iteration, so set V_{i-1}\n",
    "        V_old = np.copy(V)\n",
    "        \n",
    "    # Now that we have the best packing's value, find the transactions that belong in this packing\n",
    "    tx_packed = []\n",
    "    gas_packed = 0\n",
    "    gas_packed_unweighted = 0\n",
    "    \n",
    "    for tx_ind in range(num_txs - 1, -1, -1):\n",
    "        if keep[tx_ind, gasLimit - gas_packed]:\n",
    "            tx_hash, ratio, weight = pending_txs[tx_ind]\n",
    "            tx_packed.append((tx_hash, ratio * weight, ratio, weight))\n",
    "            gas_packed += int(math.ceil(weight / weight_factor))\n",
    "            gas_packed_unweighted += weight\n",
    "    \n",
    "    if verbose:\n",
    "        end_time = time()\n",
    "        revenue_query = query(f\"SELECT minerRevenue FROM blocks WHERE blockNumber == {block_number}\")\n",
    "        revenue = float(revenue_query[0][0]) * 10**(-18)\n",
    "        earned_revenue = sum([x[1] for x in tx_packed]) * 10**(-18)\n",
    "        print(f\"Packed {len(tx_packed)} txs in {end_time - start_time:.2f}s for revenue of {earned_revenue :0.5f} ETH ({(earned_revenue - revenue)/revenue*100:.2f}% increase over {revenue:0.5f} ETH), \" +\n",
    "              f\"using {gas_packed_unweighted} of max {int(gasLimit_unweighted)} gas (wasted {int(gasLimit_unweighted) - gas_packed_unweighted} gas, i.e., {(gasLimit_unweighted - gas_packed_unweighted) / gasLimit_unweighted * 100 :.2f}%)\")\n",
    "\n",
    "        \n",
    "    return tx_packed"
   ]
  },
  {
   "cell_type": "code",
   "execution_count": 7,
   "metadata": {},
   "outputs": [],
   "source": [
    "# Use dynamic programming to pack transactions into a block. Following pseudocode discussed with Sanjeev\n",
    "def DP_v2_packing(pending_txs, block_number, weight_factor=1, verbose=False):\n",
    "    # If verbose, compute total elapsed time\n",
    "    if verbose:\n",
    "        start_time = time()\n",
    "    \n",
    "    # Get the smallest weight of any transaction\n",
    "    min_weight = np.min([x[2] for x in pending_txs])\n",
    "    \n",
    "    # Get the gas limit for this block\n",
    "    gasLimit_query = query(f\"SELECT gasLimit FROM blocks WHERE blockNumber == {block_number}\")\n",
    "    gasLimit = int(gasLimit_query[0][0])\n",
    "    \n",
    "    ### DYNAMIC PROGRAMMING ###\n",
    "    # Get an estimate of total profit of items via greedy\n",
    "    tx_packed_greedy = greedy_packing(pending_txs, block_number, verbose=False)\n",
    "    max_profit = int(math.ceil(sum([x[1] for x in tx_packed_greedy]) * 1.5 / weight_factor))\n",
    "    if verbose:\n",
    "        print(f\"Greedy achieved profit of {int(math.ceil(sum([x[1] for x in tx_packed_greedy])))}\")\n",
    "    \n",
    "    # For keeping track of total value packed\n",
    "    T = np.zeros((max_profit + 1,))\n",
    "    T_old = np.full((max_profit + 1,), np.Inf)\n",
    "    # For keeping track of which transactions are packed\n",
    "    # keep = np.full((len(pending_txs), max_profit + 1), False, dtype=bool)\n",
    "    num_txs = len(pending_txs)\n",
    "    \n",
    "    if verbose:\n",
    "        print(f\"Finding best packing with {num_txs} txs for max profit {max_profit} (weight reduction factor {weight_factor})\")\n",
    "    \n",
    "    # Loop through all pending transactions\n",
    "    for tx_ind in tqdm(range(0, num_txs)):\n",
    "        # Store weight and revenue of the transactions\n",
    "        tx_weight = pending_txs[tx_ind][2]\n",
    "        tx_value = int(math.floor((tx_weight * pending_txs[tx_ind][1]) / weight_factor))\n",
    "        \n",
    "        # Loop through all possible weights\n",
    "        for p in range(tx_value, max_profit + 1):\n",
    "            # If this transaction fits, update total value\n",
    "            if tx_weight + T[p - tx_value] < T_old[p]:\n",
    "                # If including this transaction results in a larger value, include it.\n",
    "                # Otherwise, we can do no worse than we did before.\n",
    "                T[p] = tx_weight + T[p - tx_value]\n",
    "                # keep[tx_ind, p] = True\n",
    "        # On to the next iteration, so set V_{i-1}\n",
    "        T_old = np.copy(T)\n",
    "    \n",
    "    # Find the optimal value\n",
    "    optimal_profit = 0\n",
    "    for p in range(0, max_profit+1):\n",
    "        if T[p] <= gasLimit:\n",
    "            optimal_profit = p            \n",
    "            \n",
    "    if verbose:\n",
    "        end_time = time()\n",
    "        # print(f\"Packed in {end_time - start_time:.2f}s for revenue of {optimal_profit * 10**(-18) :0.5f} ETH\")\n",
    "        revenue_query = query(f\"SELECT minerRevenue FROM blocks WHERE blockNumber == {block_number}\")\n",
    "        revenue = float(revenue_query[0][0]) * 10**(-18)\n",
    "        earned_revenue = optimal_profit * weight_factor * 10**(-18)\n",
    "        gas_packed = T[optimal_profit]\n",
    "        print(f\"Packed in {end_time - start_time:.2f}s for revenue of {earned_revenue :0.5f} ETH ({(earned_revenue - revenue)/revenue*100:.2f}% increase over {revenue:0.5f} ETH), \" +\n",
    "              f\"using {gas_packed} of max {int(gasLimit)} gas (wasted {int(gasLimit) - gas_packed} gas, i.e., {(gasLimit - gas_packed) / gasLimit * 100 :.2f}%)\")\n",
    "\n",
    "    return optimal_profit * weight_factor\n",
    "    '''\n",
    "    # Now that we have the best packing's value, find the transactions that belong in this packing\n",
    "    tx_packed = []\n",
    "    profit_packed = 0\n",
    "    gas_packed_unweighted = 0\n",
    "    \n",
    "    for tx_ind in range(num_txs - 1, -1, -1):\n",
    "        if keep[tx_ind, max_profit - profit_packed]:\n",
    "            tx_hash, ratio, weight = pending_txs[tx_ind]\n",
    "            tx_packed.append((tx_hash, ratio * weight))\n",
    "            profit_packed += int(math.ceil((ratio * weight) / weight_factor))\n",
    "            gas_packed_unweighted += weight\n",
    "    \n",
    "    if verbose:\n",
    "        end_time = time()\n",
    "        print(f\"Packed {len(tx_packed)} txs in {end_time - start_time:.2f}s for revenue of {sum([x[1] for x in tx_packed]) * 10**(-18) :0.5f} ETH, \" +\n",
    "              f\"using {gas_packed_unweighted} of max {gasLimit_unweighted} gas (wasted {gasLimit_unweighted - gas_packed_unweighted} gas, i.e., {(gasLimit_unweighted - gas_packed_unweighted) / gasLimit_unweighted * 100 :.2f}%)\")\n",
    "    \n",
    "    return tx_packed\n",
    "    '''"
   ]
  },
  {
   "cell_type": "code",
   "execution_count": 8,
   "metadata": {},
   "outputs": [],
   "source": [
    "# Compare the packings of greedy and DP for a given random sample size\n",
    "def compare_packings(sample_size, num_trials, weight_factors, verbose=False):\n",
    "    DP_vals = np.zeros((len(weight_factors), num_trials))\n",
    "    greedy_vals = np.zeros((num_trials,))\n",
    "    \n",
    "    for t in range(num_trials):\n",
    "        # Pick the random sample of pending transactions\n",
    "        random_pending = random.sample(pending_txs, sample_size)\n",
    "        \n",
    "        # Greedy packing\n",
    "        tx_packed_greedy = greedy_packing(random_pending, block_number, verbose=verbose)\n",
    "        greedy_vals[t] = sum([x[1] for x in tx_packed_greedy]) * 10**-18\n",
    "        \n",
    "        # DP packing\n",
    "        for i in range(len(weight_factors)):\n",
    "            w = weight_factors[i]\n",
    "\n",
    "            tx_packed_DP = DP_packing(random_pending, block_number, weight_factor=w, verbose=verbose)\n",
    "            val_DP = sum([x[1] for x in tx_packed_DP]) * 10**-18\n",
    "            DP_vals[i, t] = val_DP\n",
    "            # DP_improvement_ratios[i, t] = (val_DP - greedy_vals[t]) / greedy_vals[t] * 100\n",
    "            \n",
    "    # Return the percentage increase of value packed by the DP algorithm\n",
    "    return DP_vals, greedy_vals"
   ]
  },
  {
   "cell_type": "code",
   "execution_count": 9,
   "metadata": {},
   "outputs": [],
   "source": [
    "# Compare the packings of greedy and DP for a given block\n",
    "def compare_block_packings(block_number, weight_factors, belowGasLimit=False, includeMinedTxs=False, verbose=False):\n",
    "    # For storing the results\n",
    "    results_dict = {}\n",
    "    \n",
    "    # Get the pending transactions, as well as their weight and price-to-weight ratio\n",
    "    pending_txs = get_pending_txs(block_number, belowGasLimit=belowGasLimit,\n",
    "                                  includeMinedTxs=includeMinedTxs, verbose=verbose)\n",
    "    \n",
    "    # Determine the value earned by the miner of the block\n",
    "    revenue_query = query(f\"SELECT minerRevenue FROM blocks WHERE blockNumber = {block_number}\")\n",
    "    revenue = float(revenue_query[0][0]) * 10**(-18)\n",
    "    results_dict['miner'] = {'value': revenue}\n",
    "    \n",
    "    # Determine which transactions were actually packed in this block, and how many were ever available\n",
    "    # as pending transactions\n",
    "    real_txs = query(f'SELECT DISTINCT hash, gasUsed, gasPrice FROM txs WHERE blockNumber = {block_number}')\n",
    "    results_dict['num_real_txs'] = len(real_txs)\n",
    "    seen_txs = query(f'''SELECT DISTINCT txs.hash, txs.gasUsed\n",
    "                         FROM txs\n",
    "                             JOIN pending_txs\n",
    "                             ON txs.hash = pending_txs.hash\n",
    "                         WHERE blockNumber = {block_number}\n",
    "                         AND lastBlock <= {block_number}''')\n",
    "    results_dict['num_seen_real'] = len(seen_txs)\n",
    "    \n",
    "    # Percentage of transactions that were never in pending pool\n",
    "    results_dict['pct_seen_txs'] = 0 if len(real_txs) == 0 else len(seen_txs) / len(real_txs) * 100\n",
    "    \n",
    "    # Percentage of the total weight of this block that is filled by transactions that were\n",
    "    # never in the pending pool\n",
    "    weight_in_pool = sum([s[1] for s in seen_txs])\n",
    "    total_weight = sum([r[1] for r in real_txs])\n",
    "    results_dict['pct_seen_by_weight'] = 0 if total_weight == 0 else weight_in_pool / total_weight * 100\n",
    "    \n",
    "    # Revenue earned in this block that came from transactions that were never in the pending pool\n",
    "    seen_set = set([s[0] for s in seen_txs])\n",
    "    results_dict['revenue_from_unseen'] = sum([r[1] * r[2] if r[0] in seen_set else 0 for r in real_txs])\n",
    "    \n",
    "    # Determine the gas limit of the block\n",
    "    gasLimit_query = query(f'SELECT gasLimit FROM blocks WHERE blockNumber = {block_number}')\n",
    "    gasLimit = int(gasLimit_query[0][0])\n",
    "    \n",
    "    # Find the total weight and value of all pending transactions\n",
    "    total_weight = sum([x[2] for x in pending_txs])\n",
    "    total_value = sum([x[1]*x[2] for x in pending_txs])\n",
    "    \n",
    "    # Check if all transactions could fit in the block. If they do, we do not need to run any packings.\n",
    "    if total_weight < gasLimit:\n",
    "        if verbose:\n",
    "            print('Skipped packing (all pending transactions fit in the block)')\n",
    "        results_dict['greedy'] = {'tx_packed': pending_txs, 'value': total_value, 'time': None}\n",
    "        results_dict['DP'] = {}\n",
    "        for w in weight_factors:\n",
    "            results_dict['DP'][w] = {'tx_packed': pending_txs, 'value': total_value, 'time': None}\n",
    "    else:\n",
    "        # Run greedy packing\n",
    "        start_time = time()\n",
    "        tx_packed_greedy = greedy_packing(pending_txs, block_number, verbose=verbose)\n",
    "        time_greedy = time() - start_time\n",
    "        val_greedy = sum([x[1] for x in tx_packed_greedy]) * 10**-18\n",
    "        results_dict['greedy'] = {'tx_packed': tx_packed_greedy, 'value': val_greedy, 'time': time_greedy}\n",
    "\n",
    "        # Run DP packing for each given weight factor, saving results independently\n",
    "        results_dict['DP'] = {}\n",
    "        for w in weight_factors:\n",
    "            start_time = time()\n",
    "            tx_packed_DP = DP_packing(pending_txs, block_number, weight_factor=w, verbose=verbose)\n",
    "            time_DP = time() - start_time\n",
    "            val_DP = sum([x[1] for x in tx_packed_DP]) * 10**-18\n",
    "            results_dict['DP'][w] = {'tx_packed': tx_packed_DP, 'value': val_DP, 'time': time_DP}\n",
    "        \n",
    "    return results_dict"
   ]
  },
  {
   "cell_type": "code",
   "execution_count": 10,
   "metadata": {},
   "outputs": [],
   "source": [
    "# Plot the results of the comparative block packings\n",
    "def plot_block_comparison(results):\n",
    "    # For plotting\n",
    "    block_numbers = list(results.keys())\n",
    "    weight_factors = [100, 1000] #sorted(results[block_numbers[0]]['DP'].keys(), reverse=True)\n",
    "    fig, ax = plt.subplots(2,3)\n",
    "    ax0 = ax[0,0]\n",
    "    ax1 = ax[1,2]\n",
    "    ax2 = ax[1,0]\n",
    "    ax3 = ax[0,2]\n",
    "    ax4 = ax[0,1]\n",
    "    ax5 = ax[1,1]\n",
    "    fig.set_size_inches(18.5, 10.5)\n",
    "    x_plot = np.arange(len(block_numbers))\n",
    "    hist_bins = 10\n",
    "    \n",
    "    # Results of greedy packing\n",
    "    miner_val = np.array([r['miner']['value'] * 10**-18 for r in results.values()])\n",
    "    miner_nonzero = miner_val > 0\n",
    "    x_nonzero = np.arange(sum(miner_nonzero))\n",
    "    greedy_val = np.array([r['greedy']['value'] * 10**-18 for r in results.values()])\n",
    "    greedy_time = np.array([r['greedy']['time'] for r in results.values()])\n",
    "    greedy_diff = greedy_val - miner_val\n",
    "    greedy_pct = greedy_diff[miner_nonzero] / miner_val[miner_nonzero] * 100\n",
    "    greedy_hist, hist_edges = np.histogram(greedy_diff, bins=hist_bins)\n",
    "    hist_width = [(hist_edges[i+1] - hist_edges[i]) / (len(weight_factors) + 1)\n",
    "                  for i in range(len(hist_edges) - 1)]\n",
    "    hist_plot = hist_edges[:-1]\n",
    "    inds_sorted = list(np.argsort(greedy_diff))\n",
    "    inds_nonzero = list(np.argsort(greedy_pct))\n",
    "    \n",
    "    # Plot a flat line at zero\n",
    "    ax0.plot(x_plot, np.zeros(x_plot.shape), '--k')\n",
    "    ax4.plot(x_nonzero, np.zeros(x_nonzero.shape), '--k')\n",
    "\n",
    "    # For the greedy difference\n",
    "    DP_greedy_diff = [(r['DP'][min(weight_factors)]['value'] - r['greedy']['value'])\n",
    "                      for r in results.values()]\n",
    "    inds_DP_sorted = list(np.argsort(DP_greedy_diff))\n",
    "    \n",
    "    # For each weight factor, plot the DP packing result with that weight factor\n",
    "    for w in weight_factors:\n",
    "        DP_val = np.array([r['DP'][w]['value'] * 10**-18 for r in results.values()])\n",
    "        DP_time = np.array([r['DP'][w]['time'] for r in results.values()])\n",
    "        DP_diff = DP_val - miner_val\n",
    "        DP_pct = DP_diff[miner_nonzero] / miner_val[miner_nonzero] * 100\n",
    "        DP_hist, _ = np.histogram(DP_diff, bins=hist_edges)\n",
    "        DP_greedy_diff = DP_val - greedy_val\n",
    "        DP_greedy_pct = DP_greedy_diff / greedy_val * 100\n",
    "        # ax0.plot(x_plot, [DP_val[i] - greedy_val[i] for i in range(len(DP_val))], label=f'DP {w}')\n",
    "        ax0.plot(x_plot, DP_diff[inds_sorted], label=f'DP {w}')\n",
    "        ax4.plot(x_nonzero, DP_pct[inds_nonzero], label=f'DP {w}')\n",
    "        ax1.plot(x_plot, DP_time[inds_sorted], label=f'DP {w}')\n",
    "        ax2.plot(x_plot, DP_greedy_diff[inds_DP_sorted], label=f'DP {w}')\n",
    "        ax5.plot(x_plot, DP_greedy_pct[inds_DP_sorted], label=f'DP {w}')\n",
    "        ax3.bar(hist_plot, DP_hist, width=hist_width, label=f'DP {w}')\n",
    "        hist_plot += hist_width\n",
    "        \n",
    "    # Plot greedy results\n",
    "    ax0.plot(x_plot, greedy_diff[inds_sorted], label='Greedy')\n",
    "    ax4.plot(x_nonzero, greedy_pct[inds_nonzero], label='Greedy')\n",
    "    ax1.plot(x_plot, greedy_time[inds_sorted], label='Greedy')\n",
    "    ax3.bar(hist_plot, greedy_hist, width=hist_width, label='Greedy')\n",
    "    \n",
    "    # Plot the miner's revenues\n",
    "    # miner_val = [r['miner']['value'] for r in results.values()]\n",
    "    # ax0.plot(x_plot, miner_val, label='Miner')\n",
    "        \n",
    "    # ax0.set_xticks(x_plot)\n",
    "    # ax0.set_xticklabels(x_plot / 10)\n",
    "    # ax0.set_title('Difference in value of packed transactions from greedy (higher is better)')\n",
    "    # ax0.set_ylabel('Difference')\n",
    "    ax0.set_title('Difference from Miner Revenue')\n",
    "    ax0.set_xlabel('Block (ordered by greedy difference)')\n",
    "    ax0.set_ylabel('Difference (ETH)')\n",
    "    ax0.legend()\n",
    "    \n",
    "    ax4.set_title('Percent difference from Miner Revenue')\n",
    "    ax4.set_xlabel('Block (ordered by greedy % difference)')\n",
    "    ax4.set_ylabel('Difference (%)')\n",
    "    ax4.set_yscale('log')\n",
    "    ax4.legend() \n",
    "    \n",
    "    # ax1.set_xticks(x_plot)\n",
    "    # ax1.set_xticklabels(x_plot / 10)\n",
    "    ax1.set_title('Time to find packing')\n",
    "    ax1.set_xlabel('Block (ordered by greedy difference)')\n",
    "    ax1.set_ylabel('Time (s)')\n",
    "    ax1.set_yscale('log')\n",
    "    ax1.legend()\n",
    "    \n",
    "    ax2.set_title('Difference from Greedy Revenue')\n",
    "    ax2.set_xlabel(f'Block (ordered by DP {min(weight_factors)} difference)')\n",
    "    ax2.set_ylabel('Difference (ETH)')\n",
    "    ax2.legend()\n",
    "    \n",
    "    ax5.set_title('Percent difference from Greedy Revenue')\n",
    "    ax5.set_xlabel(f'Block (ordered by DP {min(weight_factors)} difference)')\n",
    "    ax5.set_ylabel('Difference (%)')\n",
    "    # ax5.set_yscale('symlog')\n",
    "    ax5.legend()\n",
    "    \n",
    "    ax3.set_title('Difference from Miner Revenue')\n",
    "    ax3.set_xlabel('Difference (ETH)')\n",
    "    ax3.set_ylabel('# Blocks')\n",
    "    ax3.set_yscale('log')\n",
    "    ax3.legend()\n",
    "    \n",
    "    fig.tight_layout()\n",
    "    plt.show()\n",
    "    \n",
    "    # print(f'''For blocks where the miner included transactions, greedy produced higher revenue {sum(greedy_val > miner_val)/len(miner_val)*100:.0f}% of the time, with an average increase of {np.mean(greedy_diff):.3f} ETH / {np.mean(greedy_pct):.1f}% per block. It took {np.mean(greedy_time):.3f}s on average.''')\n",
    "    DP_val = np.array([r['DP'][min(weight_factors)]['value'] for r in results.values()])\n",
    "    DP_diff = DP_val - miner_val\n",
    "    DP_pct = DP_diff[miner_nonzero] / miner_val[miner_nonzero] * 100\n",
    "    DP_time = np.array([r['DP'][min(weight_factors)]['time'] for r in results.values()])\n",
    "    # print(f'''For blocks where the miner included transactions, the best DP produced higher revenue {sum(DP_val > miner_val)/len(miner_val)*100:.0f}% of the time, with an average increase of {np.mean(DP_val - miner_val):.3f} ETH / {np.mean(DP_pct):.1f}% per block. It took {np.mean(DP_time):.1f}s on average.''')"
   ]
  },
  {
   "cell_type": "code",
   "execution_count": 11,
   "metadata": {},
   "outputs": [
    {
     "name": "stdout",
     "output_type": "stream",
     "text": [
      "164\n",
      "[15171056, 15173222, 15173227, 15173231, 15173234, 15173236, 15173237, 15173241, 15173246, 15173247, 15173252, 15173260, 15173261, 15173263, 15173264, 15173265, 15173266, 15173269, 15173272, 15173274, 15173276, 15173278, 15173281, 15173282, 15173283, 15173284, 15173287, 15173291, 15173295, 15173296, 15173300, 15173305, 15173306, 15173307, 15173308, 15173314, 15173315, 15173316, 15173321, 15173322, 15173324, 15173329, 15173330, 15173331, 15173339, 15173340, 15173341, 15173347, 15173349, 15173351, 15173352, 15173354, 15173363, 15173365, 15173366, 15173374, 15173379, 15173382, 15173383, 15173394, 15173398, 15173401, 15173408, 15173414, 15173416, 15173419, 15173427, 15173429, 15173432, 15173434, 15173438, 15173441, 15173442, 15173452, 15173457, 15173458, 15173461, 15173462, 15173467, 15173470, 15173472, 15173474, 15173481, 15173485, 15173486, 15173491, 15173493, 15173504, 15173505, 15173508, 15173512, 15173515, 15173519, 15173524, 15173526, 15173528, 15173530, 15173534, 15173537, 15173543, 15173547, 15173548, 15173553, 15173554, 15173557, 15173560, 15173566, 15173568, 15173569, 15173575, 15173579, 15173585, 15173587, 15173592, 15173593, 15173596, 15173598, 15173599, 15173605, 15173609, 15173613, 15173617, 15173620, 15173621, 15173629, 15173635, 15173639, 15173648, 15173650, 15173655, 15173664, 15173665, 15173676, 15173680, 15173686, 15173691, 15173697, 15173701, 15173704, 15173707, 15173711, 15173713, 15173715, 15173716, 15173727, 15173729, 15173733, 15173734, 15173746, 15173757, 15173759, 15173775, 15173782, 15173787, 15173789, 15173796, 15173804, 15173810, 15173818, 15173825, 15173833, 15173835, 15173843, 15173852]\n"
     ]
    }
   ],
   "source": [
    "# Get all blocks where we have transactions in the mempool, details about the block, and the \n",
    "# transactions that the actual miner put in the block.\n",
    "pending_blocks_result = query('''SELECT DISTINCT lastBlock\n",
    "                                 FROM pending_txs \n",
    "                                 INNER JOIN blocks\n",
    "                                     ON pending_txs.lastBlock = blocks.blockNumber\n",
    "                                 INNER JOIN txs\n",
    "                                     ON pending_txs.lastBlock = txs.blockNumber\n",
    "                                 ORDER BY lastBlock''')\n",
    "pending_blocks = [x[0] for x in pending_blocks_result]\n",
    "print(len(pending_blocks))\n",
    "print(pending_blocks)"
   ]
  },
  {
   "cell_type": "code",
   "execution_count": 19,
   "metadata": {},
   "outputs": [
    {
     "name": "stdout",
     "output_type": "stream",
     "text": [
      "679\n",
      "Packed 331 txs in 0.0028s for revenue of 1.48642 ETH (1130.16% increase over 0.12083 ETH), using 29963727.0 of max 29970676 gas (wasted 6949.0 gas, i.e., 0.02%)\n"
     ]
    },
    {
     "data": {
      "text/plain": [
       "[('0xf587fcd50c4b00bee51c9744bc7f728bc8288768c14d1c3921762ba7238f5bb1',\n",
       "  2906687512541175,\n",
       "  98782923111,\n",
       "  29425),\n",
       " ('0x701072cd958a533bea29d223cb8e08ccc3cdd0b8e93fc5e9d01a32843b9ab6a1',\n",
       "  6162798371876559,\n",
       "  97498748151,\n",
       "  63209),\n",
       " ('0x2c414f83e40b818eecd6325a0945bddc0d9b7dddb4f62d95a31c38a8bab84d7d',\n",
       "  4862110892663572.0,\n",
       "  83501251849.0,\n",
       "  58228.0),\n",
       " ('0xa702ef17a4b4d92c4de4b55e2e03bf5d28f220d33b7c4f728eb0ac133b81c3bf',\n",
       "  3350494171733667,\n",
       "  81131660211,\n",
       "  41297),\n",
       " ('0x4c037302756a05c51ee388df4afeb81a25de9f7b72eba807691d2893eb0a8eb7',\n",
       "  29155212912320107,\n",
       "  80889859397,\n",
       "  360431),\n",
       " ('0x5487ada7e70f447eb329903ca3f4b1fd2f4770d038c2acaaa0915908a94886f4',\n",
       "  1638000000000000,\n",
       "  78000000000,\n",
       "  21000),\n",
       " ('0x95aa25ca9fefedd7221fbe6ffae0426fe6783f815e3b5d3dbe94113a4466e1f9',\n",
       "  27088234174142190,\n",
       "  76933791655,\n",
       "  352098),\n",
       " ('0x8b4d43586bca71528c0609f0489966b8cbdbf53f1fbb4006abbb01fafbdbd136',\n",
       "  26896394466129150,\n",
       "  76388944175,\n",
       "  352098),\n",
       " ('0xaaded82cbda510a83b66abc46a08e21487799ed6534ccde2e4215472a48991bb',\n",
       "  1597791874497000,\n",
       "  76085327357,\n",
       "  21000),\n",
       " ('0x13d44af9b142e1f46b422c569fa9acc831ff03f4adc44adf0b6cb214e3e0e071',\n",
       "  4747358640000000,\n",
       "  75120000000,\n",
       "  63197),\n",
       " ('0x9da92151f44c005032f7bc1f3c25283957b923d3e378b849ad26a787d6e93f60',\n",
       "  1533000000000000,\n",
       "  73000000000,\n",
       "  21000),\n",
       " ('0xbb0384a383c31103d90db0249db44e454c82c51486f5e39b2f1161e9675047fb',\n",
       "  4613381000000000,\n",
       "  73000000000,\n",
       "  63197),\n",
       " ('0xfdb26bc82fe303a17cc5661d19cda8f7dacc9b55a52443911783bd466c0aea61',\n",
       "  3343772500000000,\n",
       "  72500000000,\n",
       "  46121),\n",
       " ('0xf04ca2cf542533f9ea96ee88c20bb19dced79f9a8a2ed7d692169940f7264513',\n",
       "  1966604335296390,\n",
       "  71246036130,\n",
       "  27603),\n",
       " ('0x3591468318a7090fe492907a1424e939b69f95b611d9b20e4992a362be8bdbc1',\n",
       "  1480500000000000,\n",
       "  70500000000,\n",
       "  21000),\n",
       " ('0xcdbc43e04edc749b17f355679a7e456ab298487a010628311d035aa56eea81a8',\n",
       "  1480500000000000,\n",
       "  70500000000,\n",
       "  21000),\n",
       " ('0xb51c40b3dcaee6c3e66f67771aa179802032372ab7f80f0e9eadaaa110ba89f6',\n",
       "  2795601600000000,\n",
       "  63936000000,\n",
       "  43725),\n",
       " ('0x869775152ce4306c2585081e87e07c51325007682fb4054116e9cd25deadfa18',\n",
       "  1334232138666000,\n",
       "  63534863746,\n",
       "  21000),\n",
       " ('0x090839dbdbff749540df013f078e6e4eaea314613a4611fafea3a358152640bc',\n",
       "  1322685000000000,\n",
       "  62985000000,\n",
       "  21000),\n",
       " ('0x9fb96df0f67a419e7ea8c53c67299796cc4a84ec60317b481dee9e0a54009657',\n",
       "  1322685000000000,\n",
       "  62985000000,\n",
       "  21000),\n",
       " ('0x0d7390189c9b7c8a5e6667aa9da61b021bf3fc4333a29df32a9bad037c89990a',\n",
       "  1318424027928000,\n",
       "  62782096568,\n",
       "  21000),\n",
       " ('0xdea56b87acd2bb4c8f07099632ccde28b3faa49d4b05b7a22540017d9c7c2b2f',\n",
       "  1315191860199000,\n",
       "  62628183819,\n",
       "  21000),\n",
       " ('0x17fb860b90fb27733a52acfdb751f1338618df62320d24391f4e0c9d2854230f',\n",
       "  1289938619088000,\n",
       "  61425648528,\n",
       "  21000),\n",
       " ('0x62e0bac1f5e28d64cbb79d68d44d99830b24c00e3d3ff6c42dc5d5a7420360ae',\n",
       "  1264200000000000,\n",
       "  60200000000,\n",
       "  21000),\n",
       " ('0x1bf30bf8ada12100214562dd0e86d466c099cc6dff5619b42817dc84d4ed075c',\n",
       "  2877389912503600,\n",
       "  59371696775,\n",
       "  48464),\n",
       " ('0xc1c1c27b468bae03578203352755c148229d6b683f8f74644aacf2db53f2819c',\n",
       "  1227398897235000,\n",
       "  58447566535,\n",
       "  21000),\n",
       " ('0xa2865bbfc0698ce9c7149757464c25e8718cb1bdf5f5ec5d2334aac21f161610',\n",
       "  1196933406984000,\n",
       "  56996828904,\n",
       "  21000),\n",
       " ('0xae06fdce6288ee9ed2e307a9f08609d6c6b38b84994927b752bcc181ca7c74b3',\n",
       "  2304134079261055,\n",
       "  55778016395,\n",
       "  41309),\n",
       " ('0x34d7df7a377d3579ee16849435b943ad6836a3b03fcc34f9ce8c1650164c034e',\n",
       "  1163749418244000,\n",
       "  55416638964,\n",
       "  21000),\n",
       " ('0x6a6b1d1998c9595b59fb75ff134a19db791d23e85cf5a7e4dad8408439bedb43',\n",
       "  15910290000000000,\n",
       "  54000000000,\n",
       "  294635),\n",
       " ('0x5de64554a89df9febf8849758f2c49de140e0752791d86623f0f05f6f7654082',\n",
       "  1126593565566000,\n",
       "  53647312646,\n",
       "  21000),\n",
       " ('0x11bc7b78ade26edf8b1f64869ee13114f3cc595cb3c977262275b150d49e3855',\n",
       "  2466247206483353.0,\n",
       "  53501251849.0,\n",
       "  46097.0),\n",
       " ('0x21505ee037eaf6a7e1223a93a5a796b07da8907b250e4dbeda1daf10ffc3cf8c',\n",
       "  1123526288829000.0,\n",
       "  53501251849.0,\n",
       "  21000.0),\n",
       " ('0x83114ccdafad49616b18b2e8d116b72ddc42f26fa10cce15dc4bb2385c6b932a',\n",
       "  2596148245972725.0,\n",
       "  53501251849.0,\n",
       "  48525.0),\n",
       " ('0x79a62b4937a3ed3efbcab7a88ac41c81f981a6cfc634014a8ca4029c27d87637',\n",
       "  1116198904317000,\n",
       "  53152328777,\n",
       "  21000),\n",
       " ('0x5e196731d8c008fcfe19fb3ba4990f2700c95f78c958454527df1594be25c033',\n",
       "  7003147479828000,\n",
       "  52497357420,\n",
       "  133400),\n",
       " ('0x49f23b07eaa7d24d0d40cd224773f21f2c82cdc657c487c0a92c35b7978e5be1',\n",
       "  1094199711171000,\n",
       "  52104748151,\n",
       "  21000),\n",
       " ('0x90f0beaf03926b93c9b79010317f6332a3c1e97837acfbd30d81cd715c567a26',\n",
       "  1094199711171000,\n",
       "  52104748151,\n",
       "  21000),\n",
       " ('0x6da979ced07990c0982134b17e09ed20d19016228d988978e0d5eaced75f4923',\n",
       "  3266356131983642,\n",
       "  51675491338,\n",
       "  63209),\n",
       " ('0xd39ebfac38c629b6408d8a81cf037b554ed0788749e357c6052fc789405ff2bf',\n",
       "  2377963363027151,\n",
       "  51586076383,\n",
       "  46097),\n",
       " ('0x3f961c6ae38af5938369adf36335adf8672b1fc6d8f443ffb0d5d60359870b01',\n",
       "  7268893805410344,\n",
       "  51498748152,\n",
       "  141147),\n",
       " ('0x019ca8696135037136eba1f44dc38243610e5ab81cd40cdb425443734c38400e',\n",
       "  3367220850853125,\n",
       "  51310032013,\n",
       "  65625),\n",
       " ('0xbc0e78ee009827866758743e9011bf7c9fd7471dae0df271323c6bbb7bd760e9',\n",
       "  1077510672273000,\n",
       "  51310032013,\n",
       "  21000),\n",
       " ('0x7fbfd3b428113fcb57158c0648729f7308d7ff6e9ec1bcdf9accdbc4d03f9742',\n",
       "  5281836590477082,\n",
       "  51153820583,\n",
       "  103254),\n",
       " ('0x157b9c1189882fa9117a1e537ca6030998cb05de9de9850e9a7f4acff91af86f',\n",
       "  1070030232222000,\n",
       "  50953820582,\n",
       "  21000),\n",
       " ('0x216619874876da715f5479d3f984098380cfb7629e6cc36d7dc9be3a57152b46',\n",
       "  2387288401907864,\n",
       "  50953820582,\n",
       "  46852),\n",
       " ('0xb9cfd98f5919b035de5f4148b5f7258a87d733e4b18b78435a2aa9758d04184d',\n",
       "  1070030232222000,\n",
       "  50953820582,\n",
       "  21000),\n",
       " ('0xec937297d4ce1711ef4a898fdddd350fa651505c2548a0865649b3bdf79ad336',\n",
       "  4680261281918446,\n",
       "  50953820582,\n",
       "  91853),\n",
       " ('0xa731dc03f6a3399bb72a8b9a7d2b9bd929a7cd723e4583f30678b544313530e0',\n",
       "  3207777621876559,\n",
       "  50748748151,\n",
       "  63209),\n",
       " ('0xfcfd7552caf6906a406089179bbb2ef384b5d7bd4e4833dab77a4af92aed5668',\n",
       "  1065512474271000,\n",
       "  50738689251,\n",
       "  21000),\n",
       " ('0x30c5f4af7ee2d4b4273f0b60bbff660626cd9e9331d0477376e59197e1f503da',\n",
       "  2344252886665722,\n",
       "  50498748151,\n",
       "  46422),\n",
       " ('0x36b4b139d2134a3e6dccd3bf26e15c0dbc485b0aa59f64539db6a0ca9334a421',\n",
       "  2616744131688518,\n",
       "  50498748151,\n",
       "  51818),\n",
       " ('0xa6d5cd2d0e039af1e318f8688b0452507c9e5358a3a10142d5b52e921ffb336b',\n",
       "  2846412438279266,\n",
       "  50498748151,\n",
       "  56366),\n",
       " ('0xc8adf3f953e9765fd214078ebb0e43c03bcc82be0e32b6e304806b6b1c1ca5dc',\n",
       "  8098534739724021,\n",
       "  50498748151,\n",
       "  160371),\n",
       " ('0xf734d6fdfe215a43bed32de054a51b6b92d249c970680815d0009884a8e8f441',\n",
       "  4039596859591094,\n",
       "  50498748151,\n",
       "  79994),\n",
       " ('0x0b8b6432140265a478b65aa661c30b73df211de21c0f88bc8ad64a2aff7d7d98',\n",
       "  1050225711171000,\n",
       "  50010748151,\n",
       "  21000),\n",
       " ('0x05edb3c8e2c78e48e52fefbc2f80afd64d1d4e821c52def4db62b92ba336252a',\n",
       "  4859300000000000,\n",
       "  50000000000,\n",
       "  97186),\n",
       " ('0xe9297a3d4e6acb57756af614928bbc329beb0661da74f5d07cdd8662b961b165',\n",
       "  1047281850972000,\n",
       "  49870564332,\n",
       "  21000),\n",
       " ('0x04786780c149bb4c7104e80f1038e7aa934ed048f70c358670221ebcd32e4779',\n",
       "  1046249715420000,\n",
       "  49821415020,\n",
       "  21000),\n",
       " ('0x674ac15c39397a55bd5c40d134e506f8ff301fbe97e33e887bf88d15c86dfd33',\n",
       "  1044618711171000,\n",
       "  49743748151,\n",
       "  21000),\n",
       " ('0x5a69534f70e15aaa8554f33f7c3f34b5140a3143a5897f430bf0908cde2d4201',\n",
       "  4771431828015645,\n",
       "  49498748151,\n",
       "  96395),\n",
       " ('0xd4fea1b83fb046a704383eb1b7f6523613c6e0573df3a0a53c0643c3500f055d',\n",
       "  5715075962766309,\n",
       "  49498748151,\n",
       "  115459),\n",
       " ('0xe717503a8215bb7864e5e52f77e02f3b7b26a618e22485cd53ebaf60a08dc7bc',\n",
       "  4789993858572270,\n",
       "  49498748151,\n",
       "  96770),\n",
       " ('0xe461be6d1969eb2f2571e08efe11ff450f96cb9d91b63c68717c821e2963d1e3',\n",
       "  1031678190438000,\n",
       "  49127532878,\n",
       "  21000),\n",
       " ('0xdd5e31d6b561cca09dd005ba767084ba7766043eb1ec223ddef7ef34ef785d6e',\n",
       "  1727009856982740,\n",
       "  48997357420,\n",
       "  35247),\n",
       " ('0x1af3056df4df3a8a5b652eef855750df713e60705cf9cfba82df84c48f9ed063',\n",
       "  2982375377251599,\n",
       "  48872972113,\n",
       "  61023),\n",
       " ('0x1d63f1afe839fb2610bd1d15c9c2c8d8c2feee3b15b4b5e20b69158e9ecac7b5',\n",
       "  7547062099633686,\n",
       "  48872972113,\n",
       "  154422),\n",
       " ('0x69680ae382fc20dcd3fdee923ff48a2515f60c098e25fad0cd2ec42f3e7e7857',\n",
       "  4918722532368659,\n",
       "  48872972113,\n",
       "  100643),\n",
       " ('0x158e899adde9f87a26533ef7ee4dc4232ae23f7b5040ea494331c20ae1f494ff',\n",
       "  5170791031615167,\n",
       "  48498748151,\n",
       "  106617),\n",
       " ('0x1bdffbebcbf84bb8e69b2b26e10fbd233b54982517903b05d2f486e4aaa6743d',\n",
       "  1018473711171000,\n",
       "  48498748151,\n",
       "  21000),\n",
       " ('0x45b856fa9175898e076c7887f7829729a7efe51d2ddd7ac5f837ded8e9b87a42',\n",
       "  1018473711171000,\n",
       "  48498748151,\n",
       "  21000),\n",
       " ('0x4ca082b3f734b75d6f46be8f76c4e2523932a593d13f75a85a8c7dce44bb361b',\n",
       "  1018473711171000,\n",
       "  48498748151,\n",
       "  21000),\n",
       " ('0x79737f5037cbd034aa35e41acaf277bb8402c60cfc4154cfb8a7c33700b33546',\n",
       "  1018473711171000,\n",
       "  48498748151,\n",
       "  21000),\n",
       " ('0xa2ed33e3789d3218cfd91e797d5895b83f4571ff3d381a51cb86c07bdcf30625',\n",
       "  1018473711171000,\n",
       "  48498748151,\n",
       "  21000),\n",
       " ('0xf0b7c6a453a789db7737027157ec0ac7639c6064769a8464d64b7c93cf177e61',\n",
       "  9261611939403866,\n",
       "  48498748151,\n",
       "  190966),\n",
       " ('0xf7900cf3e24c1885bafa46003c6d5882d9a5ca01e803b155d3e9778383d21f24',\n",
       "  1018473711171000,\n",
       "  48498748151,\n",
       "  21000),\n",
       " ('0x0b048350dfecec797ba0d842009e30daf873975b3426625bccec5f22e0fa0d85',\n",
       "  11225959738443142,\n",
       "  48462330994,\n",
       "  231643),\n",
       " ('0xbb1dd4a58ed8d9b1a75e31d0baf1db46e0d2e9ba5bc4ecc84d99f3a712565e00',\n",
       "  9213870439403866,\n",
       "  48248748151,\n",
       "  190966),\n",
       " ('0xc84fea4eba6bd575bc9b2ba5b4368ded603b0a1200ad4983229d947c90daf823',\n",
       "  3181728000000000,\n",
       "  48000000000,\n",
       "  66286),\n",
       " ('0x08b251d3c84f755231586cb92490e839105335f84f8916c6079ea17c273b5179',\n",
       "  2508990563349072,\n",
       "  47998748151,\n",
       "  52272),\n",
       " ('0x092147a8a60726b5534ada20e3038e6366bf8d3d5fe6432be71e2cb1167b4e8b',\n",
       "  2242933502348079,\n",
       "  47998748151,\n",
       "  46729),\n",
       " ('0x0bfb3fb6a08832ee484362d85aaeecaef3624f7f3d2fbb36a4642227a6628df4',\n",
       "  6579188409057570,\n",
       "  47998748151,\n",
       "  137070),\n",
       " ('0x0f3582e353ca3665ec5c4c2da012973a2b03dde9f66678b97475842b4758a66a',\n",
       "  9166128939403866,\n",
       "  47998748151,\n",
       "  190966),\n",
       " ('0x14f7c64c7afbc7ea5401e245868afd1d567480e109ae03db81fee1a912ffefb8',\n",
       "  1283534524305891,\n",
       "  47998748151,\n",
       "  26741),\n",
       " ('0x1afddbcc34129e99d31e1ab955eeb7ab0875cac2ddb74a133748540206e54d7c',\n",
       "  1691811876078297,\n",
       "  47998748151,\n",
       "  35247),\n",
       " ('0x1b53b532e10bfb5861355e055857fcbdc674ac51acbba82e39b0fcbabc6fa57d',\n",
       "  2223638005591377,\n",
       "  47998748151,\n",
       "  46327),\n",
       " ('0x1ce9570ee03cf5bec70dbb478f34879f18e2b3abb03e3fe39cfdf79583348b9d',\n",
       "  3008465536608378,\n",
       "  47998748151,\n",
       "  62678),\n",
       " ('0x1f2e5723d19517e0bc80d7a689854fcec8131b59cb2078151d45ecb1f2991eb8',\n",
       "  9166128939403866,\n",
       "  47998748151,\n",
       "  190966),\n",
       " ('0x2174348974b9502557dcb98a6687330042d322716a73188421a78a5cd2ebd6b2',\n",
       "  9166128939403866,\n",
       "  47998748151,\n",
       "  190966),\n",
       " ('0x245a18d4db8124765095557ebb925b2b5ab1b5dbbf383f31113e9c15d4a98de4',\n",
       "  2212838287257402,\n",
       "  47998748151,\n",
       "  46102),\n",
       " ('0x260e27ee6855c09bc2d9060d8329fe29025b9ab18ab0ae5f4b80b7ff904f5670',\n",
       "  2221382064428280,\n",
       "  47998748151,\n",
       "  46280),\n",
       " ('0x268bd6d9f444a80e6ce9a743de80c24289d644f350d8d9e15729c21cce949891',\n",
       "  9166128939403866,\n",
       "  47998748151,\n",
       "  190966),\n",
       " ('0x26f7ffeeb9dda303fe2eb3e7064044fbbbc9efac42d74f7d509023c260dd40bb',\n",
       "  6568820679456954,\n",
       "  47998748151,\n",
       "  136854),\n",
       " ('0x2a0b38b95feea57f627bd35dede42634a1b22d1bcd1325859bb6b0e58a09d88a',\n",
       "  7034984521499466,\n",
       "  47998748151,\n",
       "  146566),\n",
       " ('0x36489ec268330ac5d2255ee4a3d5be51f4e1d22f9b3764ad989acfe0a67c298e',\n",
       "  8939430851886693,\n",
       "  47998748151,\n",
       "  186243),\n",
       " ('0x37760c1f3d8a78a18f2ddf679f96d512ca00a2e1b01a1ba76a45d446fbaa4e93',\n",
       "  2221382064428280,\n",
       "  47998748151,\n",
       "  46280),\n",
       " ('0x3f98c4e522b103cbf340b2a61260b04e5f5c038b39176bd33c368506b9c1abb4',\n",
       "  9166128939403866,\n",
       "  47998748151,\n",
       "  190966),\n",
       " ('0x4bb1c6973cba54555d7b12992bc947029f014d9da426ad830e47ebc2671ca37c',\n",
       "  6568964675701407,\n",
       "  47998748151,\n",
       "  136857),\n",
       " ('0x52bf716cc6eacc2c7a7c5935d943300d51c85edc68dc1cc6198bfbd7de2d7da5',\n",
       "  2174823278721810,\n",
       "  47998748151,\n",
       "  45310),\n",
       " ('0x54bed86b1634ae1d32c98b574be114989ed61738c6e00cfad84eee03669a4116',\n",
       "  9166128939403866,\n",
       "  47998748151,\n",
       "  190966),\n",
       " ('0x55c5097962f8652124f85b57ced0b89e51ea57fb0245a319ddad50c592e0929e',\n",
       "  2512014484482585,\n",
       "  47998748151,\n",
       "  52335),\n",
       " ('0x5ace4230cfad84c6c924f1b5025d6cc062802633d78cff6ab2f39b42dd4977b4',\n",
       "  7532011558603071,\n",
       "  47998748151,\n",
       "  156921),\n",
       " ('0x5ca722b768c34d7bd2632423aed9dacb6e25739f47b1c6b05275631e234e6c87',\n",
       "  9166128939403866,\n",
       "  47998748151,\n",
       "  190966),\n",
       " ('0x69f7e6320d9ff707f68707f33a23b2e9c7464b07a6a9454b4bc615a8686227c4',\n",
       "  6804878522863572,\n",
       "  47998748151,\n",
       "  141772),\n",
       " ('0x6d4a78202b16b9c976d27163fa4207c6f3ea42a4c227215ae03b3ba8d2fe8fa3',\n",
       "  2508990563349072,\n",
       "  47998748151,\n",
       "  52272),\n",
       " ('0x7187219a1d566ef4942e5e870ce2b76d18d3369223ac91bee76ba15349144164',\n",
       "  1257663199052502,\n",
       "  47998748151,\n",
       "  26202),\n",
       " ('0x7359e8c6c64bc653baa823bae783cf6e4e9055e26a75f57bf2a31f89bcbc3f7c',\n",
       "  7796868650900289,\n",
       "  47998748151,\n",
       "  162439),\n",
       " ('0x73d04cf14b7c0487ec281416991bbea13dc64d08d1878c8c97ac37224b72d18d',\n",
       "  2881028860267473,\n",
       "  47998748151,\n",
       "  60023),\n",
       " ('0x7b1293b9de7faca89b2e19cd15869841001b81030c0ae26db7bf55097e363436',\n",
       "  2214182252205630,\n",
       "  47998748151,\n",
       "  46130),\n",
       " ('0x7ba73e2a95b3f12a22275e717bc45b1fa4b27c909bfda632c435770c0a7b9b63',\n",
       "  2266932876423579,\n",
       "  47998748151,\n",
       "  47229),\n",
       " ('0x7e5ed11b3280ac9b3789692816648d2b1ca6f3998eb8fa582552006d91e0ed06',\n",
       "  9434393942819805,\n",
       "  47998748151,\n",
       "  196555),\n",
       " ('0x7ff12885e6b6896575879d6e0cb0e8412bdb7d6cf70595c7fdbdbf89d66d49bf',\n",
       "  2216198199627972,\n",
       "  47998748151,\n",
       "  46172),\n",
       " ('0x823bd0d8a792d4f1393d4d795a04cccd8a1aa4067ec764c536f8bac2728579bc',\n",
       "  2212838287257402,\n",
       "  47998748151,\n",
       "  46102),\n",
       " ('0x83beeb8da7dad42dfb67766e0a07a97ffd3a5905dbf6970800b2a373ff5aa815',\n",
       "  5353444377525483,\n",
       "  47998748151,\n",
       "  111533),\n",
       " ('0x83e72718f4744eb140405de412461873f0df89b68c333f9369f4f3dbcd0f64bc',\n",
       "  5086763332798527,\n",
       "  47998748151,\n",
       "  105977),\n",
       " ('0x840b9471c5973444bb2e486f0c822273233bd48622b6298b59cf7bd6263027b4',\n",
       "  7096614914125350,\n",
       "  47998748151,\n",
       "  147850),\n",
       " ('0x869550dda8697bd7b57ee768e6bd2c4fcb5177d24389882816777bb2a1be43f8',\n",
       "  2950531047590121,\n",
       "  47998748151,\n",
       "  61471),\n",
       " ('0x9042eac6c2ddef5bd35d690645409c7f30d883aee9eaad14208b2a37caddcb41',\n",
       "  2212838287257402,\n",
       "  47998748151,\n",
       "  46102),\n",
       " ('0x9219c1d5f74b064abe93fced6267571cfeb46991bbacdb56103f3d162b5e13f6',\n",
       "  5322869174953296,\n",
       "  47998748151,\n",
       "  110896),\n",
       " ('0x953911db690f7efd91a83d8378ffac728a7887a614d71a8f3c438f3735ba5a3c',\n",
       "  2214182252205630,\n",
       "  47998748151,\n",
       "  46130),\n",
       " ('0x9a2f01f44d1df068cf900a84278e12f4efd03e1c350088be6fe96726fd0354e6',\n",
       "  6422904485077914,\n",
       "  47998748151,\n",
       "  133814),\n",
       " ('0x9a3754d04fc242a50d446923c1d7e415b437b5cd63d8868e8b6159750928ee5e',\n",
       "  9166128939403866,\n",
       "  47998748151,\n",
       "  190966),\n",
       " ('0x9b4f44cb41bdbbb01cf8c5d1a5458fafcb91021121fdd5bac911cf8b4d9ed95b',\n",
       "  2215478218405707,\n",
       "  47998748151,\n",
       "  46157),\n",
       " ('0x9e0f95c917befb3cc228cb5e190bd212c8e1d9a9ea46262d1f1df18c5158212e',\n",
       "  2287812331869264,\n",
       "  47998748151,\n",
       "  47664),\n",
       " ('0xa34de1051f79e51a9f0a17e80d18137f8484c50f4962f33c4ea64e71dd5d5df1',\n",
       "  6890124299579748,\n",
       "  47998748151,\n",
       "  143548),\n",
       " ('0xa85ebc92f7ec2c2e38f4444269803cc74d1025c98b4df731689a1e1b9a43fa01',\n",
       "  2212838287257402,\n",
       "  47998748151,\n",
       "  46102),\n",
       " ('0xae2bb73d969984147d08f73dd8cdd1c571504e55d891ccdbc15850d5d67208e8',\n",
       "  7495964498741670,\n",
       "  47998748151,\n",
       "  156170),\n",
       " ('0xb7454e6eabd38bb912f63edae4d453c608bf4aab82ae500a5a009f4281bbf617',\n",
       "  2212118306035137,\n",
       "  47998748151,\n",
       "  46087),\n",
       " ('0xb9c4931af2c49e1460c501363e614cc674bc60e05b79e51c582a6000db7e9b61',\n",
       "  2212838287257402,\n",
       "  47998748151,\n",
       "  46102),\n",
       " ('0xbc0b9100adbff9144557d6bfe07662bdab369f804c74479f9ce6fbb07bc79ce1',\n",
       "  7152965444454624,\n",
       "  47998748151,\n",
       "  149024),\n",
       " ('0xc06a63690e873ac3051a10e241b6d50f60896f2b2e55aca6abed4eff40f1ed5e',\n",
       "  2221382064428280,\n",
       "  47998748151,\n",
       "  46280),\n",
       " ('0xc2498dbcd85341cdc6552c7a6c47c507cac13e8ed1e777e2eab8779562dc16d4',\n",
       "  2211926311042533,\n",
       "  47998748151,\n",
       "  46083),\n",
       " ('0xc60d2debf16196b0e48ce73d52bb114ae673f3b086b50fa0e946cdd613aed87e',\n",
       "  4152755692528218,\n",
       "  47998748151,\n",
       "  86518),\n",
       " ('0xc641b742ff5c586934ae8573a253da0dce5e680fbc362d3ea096c296f4ae78ae',\n",
       "  4155011633691315,\n",
       "  47998748151,\n",
       "  86565),\n",
       " ('0xc975fb467bc058cd576b8b388d1f7ce01a29baa7e5a8c6a08cff12c0748bc8b0',\n",
       "  1691235891100485,\n",
       "  47998748151,\n",
       "  35235),\n",
       " ('0xcb1022fe733311b64aee5ffd9572f7937e1e3471ce9a2a9f7c0949e3f0fb3c7d',\n",
       "  7103334738866490,\n",
       "  47998748151,\n",
       "  147990),\n",
       " ('0xcbc3316ab8fc16d9ec6f318872fd72d1567ebd5d13947cdc08d4012e7b3f7b03',\n",
       "  2450480089353003,\n",
       "  47998748151,\n",
       "  51053),\n",
       " ('0xcc6b653f95a1932a76557f0e97bc558df9efaa559e99e10e340882d70003fc07',\n",
       "  10242452867941890,\n",
       "  47998748151,\n",
       "  213390),\n",
       " ('0xcd3ce7a4d152951ed676af3992ea63c8835db8f75a5395480e0ef566bdcd089f',\n",
       "  7818948075049749,\n",
       "  47998748151,\n",
       "  162899),\n",
       " ('0xd1f1a17d6beee23976614a9d491561d2477a5ba9bc90e7b87966303e45c2f268',\n",
       "  3992487872452029,\n",
       "  47998748151,\n",
       "  83179),\n",
       " ('0xd7c4dd31dcd9f3b7a4741160527e6e8824eee892eaeba3a1a2512fa87a4cbc0b',\n",
       "  1690323914885616,\n",
       "  47998748151,\n",
       "  35216),\n",
       " ('0xd91e118229f750db216883e1885d32f44f1264bb02125084bf347be6480c5f92',\n",
       "  7920897416122473,\n",
       "  47998748151,\n",
       "  165023),\n",
       " ('0xdbd3b7396a981e6ef02155764552e4734b6944d8643c296723e4004b27377883',\n",
       "  1460841899975685,\n",
       "  47998748151,\n",
       "  30435),\n",
       " ('0xdf177be1d53c7da9e98d2671ed87aff11c64e89fa864a6ea9e5f6628cced547e',\n",
       "  9166128939403866,\n",
       "  47998748151,\n",
       "  190966),\n",
       " ('0xe382caaf1f987a8238234ae53082c42b8d31955fc4db8c70990beb4685ab3698',\n",
       "  8273688215032323,\n",
       "  47998748151,\n",
       "  172373),\n",
       " ('0xec4323c4360bdd86e3c2fb7e64abfd63d909bc640798036f26007f2dd7cc000f',\n",
       "  3049168475040426,\n",
       "  47998748151,\n",
       "  63526),\n",
       " ('0xf4217ed9535685573b5f9bca74b0873a8ab46801275a25666780595859942c65',\n",
       "  10645402358669535,\n",
       "  47998748151,\n",
       "  221785),\n",
       " ('0xfcba2fcebc67cf98ec91725552720794edafa16524240453e87419b6a8723960',\n",
       "  8546273105781852,\n",
       "  47998748151,\n",
       "  178052),\n",
       " ('0xfda1025843655c68ff5c6b3f63dffab3793b285dbd385ba8aad1b5dadaad1dc8',\n",
       "  2917699903854837,\n",
       "  47998748151,\n",
       "  60787),\n",
       " ('0xfe111c3cb00f7325897e0430a7a0cb20f0b7c2c6a2052b1f2d5d1dd7497dbbaf',\n",
       "  1007973711171000,\n",
       "  47998748151,\n",
       "  21000),\n",
       " ('0xff1a65ed1c21c33999ccae9501fe4bd4bb1f1722ee0ceb06dad874775d824f81',\n",
       "  2239765584970113,\n",
       "  47998748151,\n",
       "  46663),\n",
       " ('0xff96973310a07b9682c992caccf93aea675d3f264fb64c95bc11bb604738a0d8',\n",
       "  8940150833108958,\n",
       "  47998748151,\n",
       "  186258),\n",
       " ('0xbea5e35122f4c0701b80fdf2455457d6bbe49bc03804bd0c50a72aa3c33b1fce',\n",
       "  8412388143969528,\n",
       "  47708748151,\n",
       "  176328),\n",
       " ('0xeee209b00a6164cd0e920d2f71b4f58c620c562349997dba9a1cd8a61d34bd42',\n",
       "  5163451606631922,\n",
       "  47535965151,\n",
       "  108622),\n",
       " ('0x5e6fb2bddb8a17f8b6dcd236446c62e1218f3d0bbbecac82dd8408a7addb1664',\n",
       "  997494711171000,\n",
       "  47499748151,\n",
       "  21000),\n",
       " ('0x008a2c343bb1e3197de9a690e60cb86f0b38cb61ac5253dd9df31f62091ec642',\n",
       "  8461379496870989,\n",
       "  47498748151,\n",
       "  178139),\n",
       " ('0x01bd82ff09d37f37894e058b17efba2c3a6bb82ddef142adccece4e4479796b5',\n",
       "  2566262365102228,\n",
       "  47498748151,\n",
       "  54028),\n",
       " ('0x01d4a15f3a94b2166ce7e8625771c1f1dcb07963c4025b575f4fb748c03cd3ea',\n",
       "  3002348371876559,\n",
       "  47498748151,\n",
       "  63209),\n",
       " ('0x087e5b046e4c3e1dda4fb71e590d2dd51a5aee68b36b7f0208ff84c9ebb31230',\n",
       "  3117105347409375,\n",
       "  47498748151,\n",
       "  65625),\n",
       " ('0x145eb57be43f6dce0f89b819b79c55f99a6f7aa310bd4cf41f0cf8bea2f710ab',\n",
       "  997473711171000,\n",
       "  47498748151,\n",
       "  21000),\n",
       " ('0x174402ebf94a87d6b9e9542388952c0d129660ca201f7289c314bf2eada86ab0',\n",
       "  135259192688469187,\n",
       "  47498748151,\n",
       "  2847637),\n",
       " ('0x17a85369ec5130a89a2fe43c5ba996663075cde3860b51d162439090cb114eee',\n",
       "  997473711171000,\n",
       "  47498748151,\n",
       "  21000),\n",
       " ('0x193e9aa49ef54eb9f007e8fb480055e2da2d69c0e5daa35124ba2f1b01908cbf',\n",
       "  997473711171000,\n",
       "  47498748151,\n",
       "  21000),\n",
       " ('0x1bde80a85e3f9a945d4cf27f0048899a69c09d832ad633dd05776d740ba3aeff',\n",
       "  1289543513551499,\n",
       "  47498748151,\n",
       "  27149),\n",
       " ('0x1c2ab173c8ec19dfe6e198cd8bdea87d5f096ff9897853be636eb41dda913330',\n",
       "  997473711171000,\n",
       "  47498748151,\n",
       "  21000),\n",
       " ('0x1cfdf0c10914acaaaedb564a13110b6673cf836862bc992589505b8eacbc92ca',\n",
       "  997473711171000,\n",
       "  47498748151,\n",
       "  21000),\n",
       " ('0x1fa5c14b2995ef8817bd6b07dab029a374188e42aadbebcaedd8a6818bfb87b3',\n",
       "  997473711171000,\n",
       "  47498748151,\n",
       "  21000),\n",
       " ('0x25dc8ba53d5cbeacc7f994bce0f0339d7a6b68c5588605187ce3472e11025cca',\n",
       "  3001778386898747,\n",
       "  47498748151,\n",
       "  63197),\n",
       " ('0x27e290cc69b11d9fffe64d2a9ad9815418e52fd9924fb217971375aa2e3004cd',\n",
       "  9316356963588989,\n",
       "  47498748151,\n",
       "  196139),\n",
       " ('0x2aa8ef89df4528c9a9bb67879fdfd5b0e9e7478207f3492ac7bead3466676f71',\n",
       "  9535801180046609,\n",
       "  47498748151,\n",
       "  200759),\n",
       " ('0x2caa2483a196d5a98deac8bec6acba2f11e1c130074989074b1818347a8d6b0e',\n",
       "  997473711171000,\n",
       "  47498748151,\n",
       "  21000),\n",
       " ('0x30c4d6e3d652584474361c9dbb98aa90752e04bffb5d50b36cf7fa663ac8ed8b',\n",
       "  9070645939403866,\n",
       "  47498748151,\n",
       "  190966),\n",
       " ('0x3203034e54b7759e4fe99c21a8485c329050aa1d1d5a6756ad57df17d6602874',\n",
       "  51137247256862902,\n",
       "  47498748151,\n",
       "  1076602),\n",
       " ('0x32cf2e1db9d344712c942522b32c3fc9ed8773344bf9309817a7527d0d8af251',\n",
       "  997473711171000,\n",
       "  47498748151,\n",
       "  21000),\n",
       " ('0x35b05feccf255b88c8d04a5e74054d0f9e5185d88c38a28434b10142b6ffc6ea',\n",
       "  17239718140153601,\n",
       "  47498748151,\n",
       "  362951),\n",
       " ('0x35c154b674b08d43e34785b71b59a151b359ea2c293a5d6fe9b9456edf6dcf86',\n",
       "  997473711171000,\n",
       "  47498748151,\n",
       "  21000),\n",
       " ('0x3e2341e62fabf70cfa2551eb8543247f05a77fb1d4060f49da6e9856d02f12c0',\n",
       "  9254608590992689,\n",
       "  47498748151,\n",
       "  194839),\n",
       " ('0x413df590d42942d461e789a390a261f0cd2b1d67c0d1f215f0cf08905fb8ef8a',\n",
       "  997473711171000,\n",
       "  47498748151,\n",
       "  21000),\n",
       " ('0x486748127560a27bd7186725592516937e845301523516921807243ed25e73ac',\n",
       "  997473711171000,\n",
       "  47498748151,\n",
       "  21000),\n",
       " ('0x4a860d926538b5dc8cb4db24e94d4b47d27eee18c83e2dfe3419a85b7284f320',\n",
       "  3001778386898747,\n",
       "  47498748151,\n",
       "  63197),\n",
       " ('0x4ac56edb187cb4d5eb2d2f38d74d1be4b23302a18e35d46b4a3d88ab637d104c',\n",
       "  2587019318044215,\n",
       "  47498748151,\n",
       "  54465),\n",
       " ('0x532607051e131a2b69f10a673bc56d6245b59d75e8157dd4c3ac81be311f1b11',\n",
       "  2303404292834594,\n",
       "  47498748151,\n",
       "  48494),\n",
       " ('0x5751d09bfba9e93b3cd98fc28c2c9d47af025cee546a73a7d4e923b0babc19fb',\n",
       "  1655663864299407,\n",
       "  47498748151,\n",
       "  34857),\n",
       " ('0x5ce2f016b5b5d919355d7eae37b88a61dd85922eb752de98ad109e8ccccf7173',\n",
       "  2467322472703695,\n",
       "  47498748151,\n",
       "  51945),\n",
       " ('0x62f28fc4c28882dff8984bc8f1d9f30d95c354f1fd0b83fdaf7e0a589d9520f1',\n",
       "  8305156114202350,\n",
       "  47498748151,\n",
       "  174850),\n",
       " ('0x63f8ef954f675715652802233a1e3eab5573c6ad803c07a781bb04bfb7c3c44c',\n",
       "  12043402591182352,\n",
       "  47498748151,\n",
       "  253552),\n",
       " ('0x65f82a492e94e986f32e3a41f09f0daffa8465d294844207bf6857174ed5bf5f',\n",
       "  997473711171000,\n",
       "  47498748151,\n",
       "  21000),\n",
       " ('0x66838b0b345f2269973cf51194b8240e26f05f2b1bc2ed2dd2cda2223605fe5d',\n",
       "  3002918356854371,\n",
       "  47498748151,\n",
       "  63221),\n",
       " ('0x6aa18e84ace926befa074b7dd42af0c3e6fcab163daa62b7d4d95020d36f3684',\n",
       "  8707897999774679,\n",
       "  47498748151,\n",
       "  183329),\n",
       " ('0x6b6e1913ce86fe91130a11cbba2e176b582a4d7b9d09aa95519eca47838209c0',\n",
       "  2198242064428280,\n",
       "  47498748151,\n",
       "  46280),\n",
       " ('0x6bff3824b862c7c884015491a4a67c8a33736d72620fb4fc6be689190eb8aa4d',\n",
       "  997473711171000,\n",
       "  47498748151,\n",
       "  21000),\n",
       " ('0x6d4fab7ecace6b658dc0f7158fffc068b778474a4cda312b898a0cfc687ceea7',\n",
       "  9678202427003307,\n",
       "  47498748151,\n",
       "  203757),\n",
       " ('0x6d879bca238f51ac8e87815003275f30c4c4363877d29ea3ff26dfb6603f7e37',\n",
       "  997473711171000,\n",
       "  47498748151,\n",
       "  21000),\n",
       " ('0x6d8a20669433de840bdf3f22ebc7e90e5e7d1eaac96bc2b11ef5b842b16393ad',\n",
       "  1638421818720594,\n",
       "  47498748151,\n",
       "  34494),\n",
       " ('0x6e4e74bb9ce332edb2fe7735e40fc0e35fc643c8a4788cc92fd014722df43915',\n",
       "  3117105347409375,\n",
       "  47498748151,\n",
       "  65625),\n",
       " ('0x705cdcc056561137a54935fe61a613779b4d28b8383abe1b91d26227b040ada6',\n",
       "  17408813683571161,\n",
       "  47498748151,\n",
       "  366511),\n",
       " ('0x71705daff345384b2d92212b7946b11a538af79a6a412c6484de80b53f3c4430',\n",
       "  997473711171000,\n",
       "  47498748151,\n",
       "  21000),\n",
       " ('0x741dc75686c9cad9ba4ef96f0f96c8ef4c8d7438bc8f2ac787aac3297c917723',\n",
       "  2566262365102228,\n",
       "  47498748151,\n",
       "  54028),\n",
       " ('0x75ace8d397943ea2e9cd3c2a70192042ce666235d332d0067095e84683f2e7aa',\n",
       "  2197624580702317,\n",
       "  47498748151,\n",
       "  46267),\n",
       " ('0x77e3348f72e028a45d06b3e2e52a332bbfbe04e4712321616bc16e8bd7117574',\n",
       "  997473711171000,\n",
       "  47498748151,\n",
       "  21000),\n",
       " ('0x8458175f93ed991aff1e8109181fe1a343643fdcd1022fc94dd9fc525c167781',\n",
       "  9070645939403866,\n",
       "  47498748151,\n",
       "  190966),\n",
       " ('0x8a2c49de2768c0ae8aff92c25238abc65c5fc67d18d96f0f51b227be0ac82fe6',\n",
       "  997473711171000,\n",
       "  47498748151,\n",
       "  21000),\n",
       " ('0x914acc8cd38b1159fc40a1aeaa98f3c65c2faafb48348b4512d7ad0d4cf5d163',\n",
       "  3002348371876559,\n",
       "  47498748151,\n",
       "  63209),\n",
       " ('0x95cd7ee53326e54e7f68b834c61f5c008f3d6560363cb3fcc545c65998f46c14',\n",
       "  997473711171000,\n",
       "  47498748151,\n",
       "  21000),\n",
       " ('0x98f3a6881232c26393acec3503a5078eb912b66bcc1fca6b4cd684ca33082f09',\n",
       "  997473711171000,\n",
       "  47498748151,\n",
       "  21000),\n",
       " ('0x9a1283ddb35dabe86305ab0a0b209753566a5f705734de22d3622fdcec0b5ac9',\n",
       "  3117105347409375,\n",
       "  47498748151,\n",
       "  65625),\n",
       " ('0x9b6926829863630595a0faff7ed7fdae2929d514b36ac94e44fb4e9313bf8a5a',\n",
       "  6872308877479284,\n",
       "  47498748151,\n",
       "  144684),\n",
       " ('0x9bffd52cd41d0937af7dd0782eaf060745863eb6595f89fca6f8619c11b59d02',\n",
       "  8905017804601329,\n",
       "  47498748151,\n",
       "  187479),\n",
       " ('0xa236796549c6d4e2ff890b321f879643edc4ba5c85b19f560721262eee6d6bf2',\n",
       "  997473711171000,\n",
       "  47498748151,\n",
       "  21000),\n",
       " ('0xa26538a596cf4ee83649d19cea3419be2c9476fa37d30b4fbf542032d567b072',\n",
       "  1000086142319305,\n",
       "  47498748151,\n",
       "  21055),\n",
       " ('0xa3aaa58daf657c5cf2dfc07d74542f688b9339ed3e936e4f9fcec0beb1d08313',\n",
       "  12491363284994433,\n",
       "  47498748151,\n",
       "  262983),\n",
       " ('0xa4292d9e6da6ee849a88ae6408a5ee7ec88110a31beff35fdae39e8a307b1b59',\n",
       "  997473711171000,\n",
       "  47498748151,\n",
       "  21000),\n",
       " ('0xab48bf9f4c6ee47b42342da313f03d91e5dd190a2546b5ff67715a6507a45356',\n",
       "  3002348371876559,\n",
       "  47498748151,\n",
       "  63209),\n",
       " ('0xad904b12e46f37aa96f918d420beeac6ab41b75ef63b84378398f593c8d6bb8b',\n",
       "  1418122624796256,\n",
       "  47498748151,\n",
       "  29856),\n",
       " ('0xb186c05a825cc35185823b301d4ab060cc10b31d8cab403d6fbae73bcd6d3ac4',\n",
       "  997473711171000,\n",
       "  47498748151,\n",
       "  21000),\n",
       " ('0xb52659503504d557c05247eed0d75b2df4a72f16c73539559c0446f7f290cc13',\n",
       "  997473711171000,\n",
       "  47498748151,\n",
       "  21000),\n",
       " ('0xbc04c8ebb13c9ead334b17f7666da022eefeff2320db2eba562e15e5533f9518',\n",
       "  997473711171000,\n",
       "  47498748151,\n",
       "  21000),\n",
       " ('0xc23ec0992734d7c770286592973b73c9ffc0eb74c0cf189470b2d991bf56fe8a',\n",
       "  997473711171000,\n",
       "  47498748151,\n",
       "  21000),\n",
       " ('0xc39065523e5c720b9cfe84b3f190a638418b43e833ac5baa4cd703ddddb751df',\n",
       "  6768571611517500,\n",
       "  47498748151,\n",
       "  142500),\n",
       " ('0xc77b9af4fef77bae930ebeaf71c29af756add2b0c62b27ea00ad15ecc6001083',\n",
       "  2305446739005087,\n",
       "  47498748151,\n",
       "  48537),\n",
       " ('0xcedd13ab756ea5ad3d850c8e04e4cc632437405f51dfcc7e46463f8deb783450',\n",
       "  2190119778494459,\n",
       "  47498748151,\n",
       "  46109),\n",
       " ('0xcfb2dd1a2162e439bbf197d77306c81d7ce4cb554d9874559271e4820305b9b9',\n",
       "  2864696999734961,\n",
       "  47498748151,\n",
       "  60311),\n",
       " ('0xd3e12015eb12f0b60b1e2bf08458c5f6eba822c72e65a0f2033813d6bf5c3a7a',\n",
       "  2237523529149157,\n",
       "  47498748151,\n",
       "  47107),\n",
       " ('0xd9fde8ce5f1ff09b0a69e3d94da8d5ebcafe4729a225f3fb605b3b75feed52e5',\n",
       "  2214676631288526,\n",
       "  47498748151,\n",
       "  46626),\n",
       " ('0xda9801b2a678a27f65c3951e5dfc420b8485a2371f8c002015ef63646b1bfec6',\n",
       "  997473711171000,\n",
       "  47498748151,\n",
       "  21000),\n",
       " ('0xe5279608770369a4329944cd5d6e892e4ca2bd8b02f1f8457731a60f0e05c2a9',\n",
       "  2190119778494459,\n",
       "  47498748151,\n",
       "  46109),\n",
       " ('0xea0873445bd172bbcd5945be95cd6ea47416987d0e84cbf5e2ce3f1ebadfb603',\n",
       "  2447325499732124,\n",
       "  47498748151,\n",
       "  51524),\n",
       " ('0xed6744edef6ec3474fdf08fb20896461ba876d3c9796cbf82ee9870f819e948c',\n",
       "  997473711171000,\n",
       "  47498748151,\n",
       "  21000),\n",
       " ('0xedb1c1eb0f01c1a31eb8c684a3faf8acbb140690dcfec3755e2eec9659c848ed',\n",
       "  8002779083473084,\n",
       "  47498748151,\n",
       "  168484),\n",
       " ('0xf3b10023f306790978b9ec80c276239b591816d6aee55cc3fed5ff2857facf25',\n",
       "  13602738994231531,\n",
       "  47498748151,\n",
       "  286381),\n",
       " ('0xfc8be71ecf9ac3e5c227738632d15618e5c95d8a557ddec8050c23275e19cd60',\n",
       "  2864696999734961,\n",
       "  47498748151,\n",
       "  60311),\n",
       " ('0xfe63cd3513cd788dc566d94ab5703aa3cb7686bdeb3f8448e5dc596b30e2119e',\n",
       "  997473711171000,\n",
       "  47498748151,\n",
       "  21000),\n",
       " ('0x40380518a9c6823288f43e7da5e1c5ddb3e503bcafb1d0d0e1dfa598acfb91c4',\n",
       "  5668287137145380,\n",
       "  47497357420,\n",
       "  119339),\n",
       " ('0x45969364db39fc345087446ef186319201e2e3b19f78f1e2109bf36ae2c6c1e0',\n",
       "  8243118882883580,\n",
       "  47497357420,\n",
       "  173549),\n",
       " ('0x7eb9f0895c45f1dc3344a18d26e99cad16ff77a8d35630ff4a62134f6188c000',\n",
       "  997444505820000,\n",
       "  47497357420,\n",
       "  21000),\n",
       " ('0xcb4045e0b793bbd8d4183a35eb63ba476b3af16c6184feee02c70fcd76d38d63',\n",
       "  997444505820000,\n",
       "  47497357420,\n",
       "  21000),\n",
       " ('0x31bfeefb482d6e5370bfc13e08505fd76d85ce93f55c012151cb5b690721e67d',\n",
       "  996628139472000,\n",
       "  47458482832,\n",
       "  21000),\n",
       " ('0xc7eefe02a1b961d10149a3ce0e47e1aa4b2cc46ce13eda3d2833a26f455212cd',\n",
       "  10624382035897960,\n",
       "  47438748151,\n",
       "  223960),\n",
       " ('0x938e2b6a1edea84f76c87869f0f5c6c8a26c9810ba059505653d2996dc51e3c7',\n",
       "  8993525261445162,\n",
       "  47368748151,\n",
       "  189862),\n",
       " ('0x86d51f221cbbe3eea80e2ccefe5fb935dcf332d89396d28311d861f33c5f4772',\n",
       "  2183218798145756,\n",
       "  47349081484,\n",
       "  46109),\n",
       " ('0x2038be6cbd1ce1f7c23168d9e8e39dae0605abd7375112de1e87b64444899d66',\n",
       "  1496878456297948,\n",
       "  47148748151,\n",
       "  31748),\n",
       " ('0x286b17ae17dea3fb18b58103584556be40e2d8c9ebe4bbabf366b0bebe70eb32',\n",
       "  990123711171000,\n",
       "  47148748151,\n",
       "  21000),\n",
       " ('0xe95fd660ec945af0c23d42e62df1fb6d7dfc4f6230ed406904b3fc7dab26e925',\n",
       "  990123711171000,\n",
       "  47148748151,\n",
       "  21000),\n",
       " ('0xffde941c2bc23deb8f3a9481d08761a6b44a44a0881b45d982f6ec4f1d56ae92',\n",
       "  4996682882798527,\n",
       "  47148748151,\n",
       "  105977),\n",
       " ('0x031d426551341d03744ad91b8764aab1686b324c915899b2d71e23c87b301de1',\n",
       "  988023711171000,\n",
       "  47048748151,\n",
       "  21000),\n",
       " ('0x0833a3e6a0f8120c386cea8f3756521aaf0217e688083cfe9cda13d29fc2c9a7',\n",
       "  6452265321428140,\n",
       "  47048748151,\n",
       "  137140),\n",
       " ('0xaa00d80f7fb16c5f3f92a616fcbf5ec66d00d31879a04d15b6d2f713c5794038',\n",
       "  2973904321876559,\n",
       "  47048748151,\n",
       "  63209),\n",
       " ('0xde587b7df1b23e971560d9557d6357814965aeff151f14c0e99dc2b86531be4c',\n",
       "  988023711171000,\n",
       "  47048748151,\n",
       "  21000),\n",
       " ('0xa69524bcb985110baedf141dcdf319204fe2e02115a635265799a9837ed9eaf5',\n",
       "  10892585069060814,\n",
       "  47008748151,\n",
       "  231714),\n",
       " ('0xc259a29528c7a8cc4db134232e246f6299caa96bcec782f8fad4837811a880a8',\n",
       "  5449489129404675,\n",
       "  47008748151,\n",
       "  115925),\n",
       " ('0xd56d39a3d56e6b4b145df9721df6f7d1850cbb2aa4ef07c9986db2c6fe0d8204',\n",
       "  5020158232541592,\n",
       "  47008748151,\n",
       "  106792),\n",
       " ('0x27b6248a0b85faf78b8d18d0af8b0a133c47382639f1d6fb63c22ce6e4fb79cd',\n",
       "  987057711171000,\n",
       "  47002748151,\n",
       "  21000),\n",
       " ('0x111738930950c7106f9487f0209e54a650fdb449ff15ba62876f72e01295026c',\n",
       "  987000000000000,\n",
       "  47000000000,\n",
       "  21000),\n",
       " ('0x52cee3022bb1a7070381c216bcc5dce71e5d456dbce2a0f452e9c5fd434f70d6',\n",
       "  987000000000000,\n",
       "  47000000000,\n",
       "  21000),\n",
       " ('0xa5c62f53e7f69f9f1ad97d3b15c156855e22b850b75bdccc638a16bdacf4af5a',\n",
       "  987000000000000,\n",
       "  47000000000,\n",
       "  21000),\n",
       " ('0x007d7a98442447d7d2c193d3d99d090c7966c81099266b56eefe9c15b8c39467',\n",
       "  12125677022958000,\n",
       "  46998748151,\n",
       "  258000),\n",
       " ('0x01bfc79523100933bee8a4133308b7ac78097a52fa6e870e95e8a482d93650de',\n",
       "  2116729619224738,\n",
       "  46998748151,\n",
       "  45038),\n",
       " ('0x02d4305fd8a607bede1415293ea4d1aeb0023526e2284a1b875f1185b89ad4d3',\n",
       "  986973711171000,\n",
       "  46998748151,\n",
       "  21000),\n",
       " ('0x040039960ec7e6da6cfeea1a6771bd913a69d806a4432c644d4a05ba940b0ee1',\n",
       "  3083728862431563,\n",
       "  46998748151,\n",
       "  65613),\n",
       " ('0x04b43f531d1165c772087b9550ea116ad9b9dc6dea088ea8a8c35b76efeb00b1',\n",
       "  2947150500304757,\n",
       "  46998748151,\n",
       "  62707),\n",
       " ('0x050698153e72bcabbe4acaea947cb5bdf55f77bfd0084a26a17ff51c858faebc',\n",
       "  8580279457439164,\n",
       "  46998748151,\n",
       "  182564),\n",
       " ('0x07f9c0e58180d03901f5697d29df74ee0e920eb963041113b5d86fbbb7d0d1b2',\n",
       "  986973711171000,\n",
       "  46998748151,\n",
       "  21000),\n",
       " ('0x089a85d35f5906d5ef507b541d8502deb8f9ca8d6a65edf6f02408b1c4758872',\n",
       "  6293884357389316,\n",
       "  46998748151,\n",
       "  133916),\n",
       " ('0x0eda2770ac7a62200114242adbbeffbcedcfffd25931350fd825c9b6f236f66a',\n",
       "  986973711171000,\n",
       "  46998748151,\n",
       "  21000),\n",
       " ('0x10505a79a9f6ad00c4ce02c591bf7f8d9278509ce26c6a60d78dc14687286693',\n",
       "  4980786332798527,\n",
       "  46998748151,\n",
       "  105977),\n",
       " ('0x1766fbbba7b4b9efdea250655e715c84b8c4806e8c5caf798d2da642183d95ee',\n",
       "  986973711171000,\n",
       "  46998748151,\n",
       "  21000),\n",
       " ('0x1a5da9e270339f5ff4b949d5d9018a12b34d4bcbfbd52a4f0043ed0d5ba55b7c',\n",
       "  2116729619224738,\n",
       "  46998748151,\n",
       "  45038),\n",
       " ('0x1d9412759e7438774c1b1121ee7446bab726f1271aad0150757e723505511c14',\n",
       "  986973711171000,\n",
       "  46998748151,\n",
       "  21000),\n",
       " ('0x23ce5e66967ff7aea3a3398ee056695c9154ecac2ff905b18f505ef9d744ac3a',\n",
       "  1516931595321676,\n",
       "  46998748151,\n",
       "  32276),\n",
       " ('0x3131e5731f270fb572a171d2c821280dee9d799b784ade1ef191f1fa9f31087b',\n",
       "  3903340031436852,\n",
       "  46998748151,\n",
       "  83052),\n",
       " ('0x31db2e8079f8157638eb332bc144eb83eabb95fa887beb1046fb03de1a78e7b9',\n",
       "  986973711171000,\n",
       "  46998748151,\n",
       "  21000),\n",
       " ('0x3331298c4088c08401792c564cc03ed29f7349b3dac59d1976a82cddd24d6049',\n",
       "  986973711171000,\n",
       "  46998748151,\n",
       "  21000),\n",
       " ('0x33c12481e0ab1cd4dc92c84f4522251e1d88632b8709590da54fcb76d6408605',\n",
       "  1726969000808495,\n",
       "  46998748151,\n",
       "  36745),\n",
       " ('0x35160cc09d148f680e9aee0cb7e8bc9a95811d77edd4c8586ad9b83083976bd2',\n",
       "  986973711171000,\n",
       "  46998748151,\n",
       "  21000),\n",
       " ('0x3785676fb54dfa0f9435134c8797c4955ad1baca153f47531ca953c1981ecab3',\n",
       "  1247957759653503,\n",
       "  46998748151,\n",
       "  26553),\n",
       " ('0x3d410eeec7cba0fd9aa372afb84adb6f3ca80bb1a5b97a7057af90514e32ea31',\n",
       "  5562348842419001,\n",
       "  46998748151,\n",
       "  118351),\n",
       " ('0x4201312bc51791814b84369d3ab1e99b75e5c1e5561ae0ac1ce90427126dea92',\n",
       "  986973711171000,\n",
       "  46998748151,\n",
       "  21000),\n",
       " ('0x4204e24356e884397bb4d95f4f808b6327e9ebf38ea83e9d8329185159c1af43',\n",
       "  3285353491999353,\n",
       "  46998748151,\n",
       "  69903),\n",
       " ('0x514afadc844804e0599daf206f8aac11fd2eafbacd9620a3ccda75ca84c23e18',\n",
       "  986973711171000,\n",
       "  46998748151,\n",
       "  21000),\n",
       " ('0x61eadf06b634e29abee633ba071324555b896ebfce8c28908a5b61aaa8bc479c',\n",
       "  2175102064428280,\n",
       "  46998748151,\n",
       "  46280),\n",
       " ('0x624ad9b8806ce91638de769ffa447893810f40cb1da87d2b142557055f8c3439',\n",
       "  7665401825931798,\n",
       "  46998748151,\n",
       "  163098),\n",
       " ('0x64bbe59b81168655f8b97528dcf5f3f572e5b748cb1573f91f929990fd89dff6',\n",
       "  986973711171000,\n",
       "  46998748151,\n",
       "  21000),\n",
       " ('0x67df7fbb2d1ebf731e31b0d0b87d3d0ca65f82928177e8733e6dc26c8f591548',\n",
       "  986973711171000,\n",
       "  46998748151,\n",
       "  21000),\n",
       " ('0x6e6e36e24a6ff40aff223997ee181db5cda7d3de2b2012621abb1cedbf84b6fb',\n",
       "  986973711171000,\n",
       "  46998748151,\n",
       "  21000),\n",
       " ('0x6f63945cca3c1573c7fb7635f0101f0ac6c4eb8bffb19bd9b917f26dc8e2428a',\n",
       "  986973711171000,\n",
       "  46998748151,\n",
       "  21000),\n",
       " ('0x7313a735f7574448aeab3e09f1e880ee129a9bbf626fa005108d5c0f3d7efcd1',\n",
       "  12052217979597987,\n",
       "  46998748151,\n",
       "  256437),\n",
       " ('0x733c3cf59419e720eb604d416725abe5bc842c97c1b47564fc51a5f77bface01',\n",
       "  986973711171000,\n",
       "  46998748151,\n",
       "  21000),\n",
       " ('0x742f8a9f96908cbb8c1480cbcd1b6ef3044828b71f9e1954bde51f9698f49fe0',\n",
       "  986973711171000,\n",
       "  46998748151,\n",
       "  21000),\n",
       " ('0x78c883bc797663d1c62ae702d55a07fd0d084bce342339d3c424b0a7b005406a',\n",
       "  4980786332798527,\n",
       "  46998748151,\n",
       "  105977),\n",
       " ('0x7ffc259980e8942ecad0b7f25dcfa38a608d02e2374f854ac878d86eedef5e78',\n",
       "  986973711171000,\n",
       "  46998748151,\n",
       "  21000),\n",
       " ('0x8015da5a523fb2048ff4062ec6ae75242ef80219c71c2b64e41646589228c7ce',\n",
       "  2456718563349072,\n",
       "  46998748151,\n",
       "  52272),\n",
       " ('0x80900edceea8c99b8a5c75096328a43812444539b9fc17f5523698deb6d47963',\n",
       "  1787221395938077,\n",
       "  46998748151,\n",
       "  38027),\n",
       " ('0x811fef19ef3cedfe7902455bdd06a36591e52d2199a6d868dd0e0403cf8d0d81',\n",
       "  986973711171000,\n",
       "  46998748151,\n",
       "  21000),\n",
       " ('0x84ab06c0ea07e6dbaf786fc0358abfbf63ae965cf7186b9b2a26f42637258913',\n",
       "  2183467841599158,\n",
       "  46998748151,\n",
       "  46458),\n",
       " ('0x85c70b8721c4efee2b825ec46045b0eb3939f35f64ae27bfcb8c1be23f12afd9',\n",
       "  4374643477895080,\n",
       "  46998748151,\n",
       "  93080),\n",
       " ('0x88b45496b95680ef383030116f7e55982c5144df2695a227c46266078c748f48',\n",
       "  986973711171000,\n",
       "  46998748151,\n",
       "  21000),\n",
       " ('0x895b5da8ddf7a9804c45ead77bcdc5fc3f000736d3ecfc0cd0cf652f71093fb4',\n",
       "  986973711171000,\n",
       "  46998748151,\n",
       "  21000),\n",
       " ('0x8e1f0835496b6c51fdfb273af57d12d4222c9b0ea8135f48abe38c52e6ab5adf',\n",
       "  7669584714517237,\n",
       "  46998748151,\n",
       "  163187),\n",
       " ('0x90abcc95abf7bcee297d3b129d71176fcdc641be6ca61ad3c3ce186a5abc5c30',\n",
       "  7182019701198763,\n",
       "  46998748151,\n",
       "  152813),\n",
       " ('0x9268ba2449764321cc1d0ccefe817f349a09c3ede592e4524ef56ab3f845ce32',\n",
       "  2144411881885677,\n",
       "  46998748151,\n",
       "  45627),\n",
       " ('0x96d55c06d7b5167aebeb8fbec0957857e79f48d61ef4bc5c4f22a7da0dea5f5e',\n",
       "  4980786332798527,\n",
       "  46998748151,\n",
       "  105977),\n",
       " ('0x9b21848672636e5758d3c98d56dfd94278471c2a5664176bc7209fdbf2afaa8c',\n",
       "  5395597283979253,\n",
       "  46998748151,\n",
       "  114803),\n",
       " ('0x9b94635e42f93a8c14dfcf236ef4cbf64a1929ada5143b1b38e3c04a55a19c1b',\n",
       "  7221686644638207,\n",
       "  46998748151,\n",
       "  153657),\n",
       " ('0x9e09793b8ffc34effd152c8fcd585114401d78a455365310a6d434e9471832cd',\n",
       "  986973711171000,\n",
       "  46998748151,\n",
       "  21000),\n",
       " ('0xa3cf718f0c460cc1b738f2de983758080cb16340702b588d92904d76317db770',\n",
       "  12883672833137328,\n",
       "  46998748151,\n",
       "  274128),\n",
       " ('0xa407a2c2afc6681f07f4f977597e1180df8913b25fbff4ddf0421553b1e5f0b4',\n",
       "  2520401867093677,\n",
       "  46998748151,\n",
       "  53627),\n",
       " ('0xa84208a839e4c095096d125010ba7f73fcb77ab4daf6bf74a6ed2a859f22458e',\n",
       "  6414107155159574,\n",
       "  46998748151,\n",
       "  136474),\n",
       " ('0xa9f9b46803bdade13f746cdbf15927cfc256b85500ef8f4c6ee6c73ad7a4efa7',\n",
       "  2970743871876559,\n",
       "  46998748151,\n",
       "  63209),\n",
       " ('0xaa4a513c158ea750429e3dad4d9080bf885aaa09e75167fbf6094f03eb7633eb',\n",
       "  986973711171000,\n",
       "  46998748151,\n",
       "  21000),\n",
       " ('0xb1e52c3dc7ed800a3c06b0f1b62624c33624e496224b82230dcdf3d0085e043e',\n",
       "  1488215360201415,\n",
       "  46998748151,\n",
       "  31665),\n",
       " ('0xbc24c724fba8560dcf2540ffeb473019c39c11ee801d743685ca8d442c5e1f8d',\n",
       "  6481550358756259,\n",
       "  46998748151,\n",
       "  137909),\n",
       " ('0xc4bcf4f17ca574e912e97e254882e18918ea8a92ea27d60cf59a95887a07c4f7',\n",
       "  3966459350203645,\n",
       "  46998748151,\n",
       "  84395),\n",
       " ('0xc557c27a3e3c890a72b460af0b2f66844062988768eed33cac5f23fae89082c5',\n",
       "  986973711171000,\n",
       "  46998748151,\n",
       "  21000),\n",
       " ('0xcd2318e0e8bed642e094669f8cf2aaacee61cf0dd0eadfef829b5b616356e586',\n",
       "  4981162322783735,\n",
       "  46998748151,\n",
       "  105985),\n",
       " ('0xceee7622748fb341d06c58ac3ffc7e3bf13fda1ec428dd1db6cc8e925d0f6d73',\n",
       "  1430077908738628,\n",
       "  46998748151,\n",
       "  30428),\n",
       " ('0xd87f64af477bb2c7748e97a95ea73ede22a95c53a24af6ba925492b2735dfb38',\n",
       "  986973711171000,\n",
       "  46998748151,\n",
       "  21000),\n",
       " ('0xdbe57c1376068773acd2a02eec7811ae7c02fd05b2ee48e1c0bb3bd36e5e2d21',\n",
       "  2428660310702925,\n",
       "  46998748151,\n",
       "  51675),\n",
       " ('0xe04d6b2857ff39a9818a6c4cd1276fa19148c171b3d4de845e53ba42c5985199',\n",
       "  8975162939403866,\n",
       "  46998748151,\n",
       "  190966),\n",
       " ('0xe1b7364eba023f75dd9a4870cc7ece41fa7e1e48c7db35e98ce09b9a3670e129',\n",
       "  2174491080702317,\n",
       "  46998748151,\n",
       "  46267),\n",
       " ('0xe2776069667d7a23d27d2692f5574b704203de386bf34286947597fbee64bb88',\n",
       "  2172000147050314,\n",
       "  46998748151,\n",
       "  46214),\n",
       " ('0xe4e527896115781a0c94846245875d2569563556a4f9489eec88dfc7fe37ffa3',\n",
       "  1904483272574822,\n",
       "  46998748151,\n",
       "  40522),\n",
       " ('0xea8daf990167770684b7025dc765305cd2b81060976cc224f3cb442e3a2ccb7a',\n",
       "  2174491080702317,\n",
       "  46998748151,\n",
       "  46267),\n",
       " ('0xed9fb4add2a1484c1d4e747cb5c0f555f3d1d214ae7930f2e632dcce46edc6ff',\n",
       "  986973711171000,\n",
       "  46998748151,\n",
       "  21000),\n",
       " ('0xef3141e561fd17708b02552a42685c41e3f2b462e5e208041ed6e3dab8b492aa',\n",
       "  2189248687621731,\n",
       "  46998748151,\n",
       "  46581),\n",
       " ('0xf09211a54f2d5f406cadb5a57c7f0a0ee6f7c6f925d9d4a252bd9014a7ab0bbe',\n",
       "  986973711171000,\n",
       "  46998748151,\n",
       "  21000),\n",
       " ('0xf55d4eeffce3fdf5a42cf6d1bec3231a408f98424008ce016b9e6021f8d36018',\n",
       "  2180506920465645,\n",
       "  46998748151,\n",
       "  46395),\n",
       " ('0xf91e4589803c6031773f163ad98d095224ffac86a2414f44cfffb2593961100a',\n",
       "  4058764891572209,\n",
       "  46998748151,\n",
       "  86359),\n",
       " ('0xfc971a5f0fc3aea89475fc44510c98be4af2a298c5546815b745761f7b1866b5',\n",
       "  2453146658489596,\n",
       "  46998748151,\n",
       "  52196),\n",
       " ('0xfd069c9b102acebd543d549ffa4180ae88442b1f19e8b1973f6496ff1969d2cc',\n",
       "  986973711171000,\n",
       "  46998748151,\n",
       "  21000),\n",
       " ('0xfea5943aed2098fd4d8e7a94a4cd20fd7524378079af313ee9100abda6415675',\n",
       "  2858698856284575,\n",
       "  46998748151,\n",
       "  60825),\n",
       " ('0x8ce666be713e9bd69df6fe859b7eec9efdf9486ab697608f1e9c14d147f689be',\n",
       "  1677644879461575.0,\n",
       "  34572795043.0,\n",
       "  48525.0)]"
      ]
     },
     "execution_count": 19,
     "metadata": {},
     "output_type": "execute_result"
    }
   ],
   "source": [
    "block_number = 15173655\n",
    "txs = get_pending_txs(block_number, True, True)\n",
    "print(len(txs))\n",
    "greedy_packing(txs, block_number, True)"
   ]
  },
  {
   "cell_type": "code",
   "execution_count": 68,
   "metadata": {},
   "outputs": [
    {
     "name": "stdout",
     "output_type": "stream",
     "text": [
      "Working on block 15171056 (1/164)\n"
     ]
    },
    {
     "name": "stderr",
     "output_type": "stream",
     "text": [
      "100%|██████████| 990/990 [02:56<00:00,  5.62it/s]\n",
      "100%|██████████| 990/990 [00:17<00:00, 56.45it/s]\n"
     ]
    },
    {
     "name": "stdout",
     "output_type": "stream",
     "text": [
      "Working on block 15173222 (2/164)\n"
     ]
    },
    {
     "name": "stderr",
     "output_type": "stream",
     "text": [
      "100%|██████████| 407/407 [01:33<00:00,  4.36it/s]\n",
      "100%|██████████| 407/407 [00:09<00:00, 42.64it/s]\n"
     ]
    },
    {
     "name": "stdout",
     "output_type": "stream",
     "text": [
      "Working on block 15173227 (3/164)\n"
     ]
    },
    {
     "name": "stderr",
     "output_type": "stream",
     "text": [
      "100%|██████████| 428/428 [02:05<00:00,  3.40it/s]\n",
      "100%|██████████| 428/428 [00:12<00:00, 33.27it/s]\n"
     ]
    },
    {
     "name": "stdout",
     "output_type": "stream",
     "text": [
      "Working on block 15173231 (4/164)\n",
      "Working on block 15173234 (5/164)\n",
      "Working on block 15173236 (6/164)\n",
      "Working on block 15173237 (7/164)\n",
      "Working on block 15173241 (8/164)\n"
     ]
    },
    {
     "name": "stderr",
     "output_type": "stream",
     "text": [
      "100%|██████████| 369/369 [01:44<00:00,  3.54it/s]\n",
      "100%|██████████| 369/369 [00:11<00:00, 32.76it/s]\n"
     ]
    },
    {
     "name": "stdout",
     "output_type": "stream",
     "text": [
      "Working on block 15173246 (9/164)\n",
      "Working on block 15173247 (10/164)\n"
     ]
    },
    {
     "name": "stderr",
     "output_type": "stream",
     "text": [
      "100%|██████████| 332/332 [01:38<00:00,  3.37it/s]\n",
      "100%|██████████| 332/332 [00:09<00:00, 33.29it/s]\n"
     ]
    },
    {
     "name": "stdout",
     "output_type": "stream",
     "text": [
      "Working on block 15173252 (11/164)\n",
      "Working on block 15173260 (12/164)\n"
     ]
    },
    {
     "name": "stderr",
     "output_type": "stream",
     "text": [
      "100%|██████████| 527/527 [01:57<00:00,  4.48it/s]\n",
      "100%|██████████| 527/527 [00:12<00:00, 43.38it/s]\n"
     ]
    },
    {
     "name": "stdout",
     "output_type": "stream",
     "text": [
      "Working on block 15173261 (13/164)\n"
     ]
    },
    {
     "name": "stderr",
     "output_type": "stream",
     "text": [
      "100%|██████████| 481/481 [01:59<00:00,  4.02it/s]\n",
      "100%|██████████| 481/481 [00:12<00:00, 39.27it/s]\n"
     ]
    },
    {
     "name": "stdout",
     "output_type": "stream",
     "text": [
      "Working on block 15173263 (14/164)\n",
      "Working on block 15173264 (15/164)\n",
      "Working on block 15173265 (16/164)\n",
      "Working on block 15173266 (17/164)\n"
     ]
    },
    {
     "name": "stderr",
     "output_type": "stream",
     "text": [
      "100%|██████████| 461/461 [02:15<00:00,  3.39it/s]\n",
      "100%|██████████| 461/461 [00:13<00:00, 34.09it/s]\n"
     ]
    },
    {
     "name": "stdout",
     "output_type": "stream",
     "text": [
      "Working on block 15173269 (18/164)\n",
      "Working on block 15173272 (19/164)\n",
      "Working on block 15173274 (20/164)\n"
     ]
    },
    {
     "name": "stderr",
     "output_type": "stream",
     "text": [
      "100%|██████████| 519/519 [02:15<00:00,  3.82it/s]\n",
      "100%|██████████| 519/519 [00:13<00:00, 38.40it/s]\n"
     ]
    },
    {
     "name": "stdout",
     "output_type": "stream",
     "text": [
      "Working on block 15173276 (21/164)\n",
      "Working on block 15173278 (22/164)\n"
     ]
    },
    {
     "name": "stderr",
     "output_type": "stream",
     "text": [
      "100%|██████████| 321/321 [01:04<00:00,  4.99it/s]\n",
      "100%|██████████| 321/321 [00:06<00:00, 49.29it/s]\n"
     ]
    },
    {
     "name": "stdout",
     "output_type": "stream",
     "text": [
      "Working on block 15173281 (23/164)\n"
     ]
    },
    {
     "name": "stderr",
     "output_type": "stream",
     "text": [
      "100%|██████████| 332/332 [01:20<00:00,  4.10it/s]\n",
      "100%|██████████| 332/332 [00:08<00:00, 40.08it/s]\n"
     ]
    },
    {
     "name": "stdout",
     "output_type": "stream",
     "text": [
      "Working on block 15173282 (24/164)\n"
     ]
    },
    {
     "name": "stderr",
     "output_type": "stream",
     "text": [
      "100%|██████████| 627/627 [02:29<00:00,  4.20it/s]\n",
      "100%|██████████| 627/627 [00:14<00:00, 43.85it/s]\n"
     ]
    },
    {
     "name": "stdout",
     "output_type": "stream",
     "text": [
      "Working on block 15173283 (25/164)\n"
     ]
    },
    {
     "name": "stderr",
     "output_type": "stream",
     "text": [
      "100%|██████████| 531/531 [02:14<00:00,  3.94it/s]\n",
      "100%|██████████| 531/531 [00:13<00:00, 40.63it/s]\n"
     ]
    },
    {
     "name": "stdout",
     "output_type": "stream",
     "text": [
      "Working on block 15173284 (26/164)\n"
     ]
    },
    {
     "name": "stderr",
     "output_type": "stream",
     "text": [
      "100%|██████████| 742/742 [03:03<00:00,  4.05it/s]\n",
      "100%|██████████| 742/742 [00:17<00:00, 42.81it/s]\n"
     ]
    },
    {
     "name": "stdout",
     "output_type": "stream",
     "text": [
      "Working on block 15173287 (27/164)\n"
     ]
    },
    {
     "name": "stderr",
     "output_type": "stream",
     "text": [
      "100%|██████████| 455/455 [02:02<00:00,  3.71it/s]\n",
      "100%|██████████| 455/455 [00:11<00:00, 39.09it/s]\n"
     ]
    },
    {
     "name": "stdout",
     "output_type": "stream",
     "text": [
      "Working on block 15173291 (28/164)\n",
      "Working on block 15173295 (29/164)\n",
      "Working on block 15173296 (30/164)\n"
     ]
    },
    {
     "name": "stderr",
     "output_type": "stream",
     "text": [
      "100%|██████████| 380/380 [01:48<00:00,  3.50it/s]\n",
      "100%|██████████| 380/380 [00:15<00:00, 23.90it/s]\n"
     ]
    },
    {
     "name": "stdout",
     "output_type": "stream",
     "text": [
      "Working on block 15173300 (31/164)\n",
      "Working on block 15173305 (32/164)\n"
     ]
    },
    {
     "name": "stderr",
     "output_type": "stream",
     "text": [
      "100%|██████████| 379/379 [02:08<00:00,  2.96it/s]\n",
      "100%|██████████| 379/379 [00:12<00:00, 31.23it/s]\n"
     ]
    },
    {
     "name": "stdout",
     "output_type": "stream",
     "text": [
      "Working on block 15173306 (33/164)\n"
     ]
    },
    {
     "name": "stderr",
     "output_type": "stream",
     "text": [
      "100%|██████████| 356/356 [01:50<00:00,  3.22it/s]\n",
      "100%|██████████| 356/356 [00:10<00:00, 33.71it/s]\n"
     ]
    },
    {
     "name": "stdout",
     "output_type": "stream",
     "text": [
      "Working on block 15173307 (34/164)\n"
     ]
    },
    {
     "name": "stderr",
     "output_type": "stream",
     "text": [
      "100%|██████████| 367/367 [01:41<00:00,  3.61it/s]\n",
      "100%|██████████| 367/367 [00:10<00:00, 36.13it/s]\n"
     ]
    },
    {
     "name": "stdout",
     "output_type": "stream",
     "text": [
      "Working on block 15173308 (35/164)\n"
     ]
    },
    {
     "name": "stderr",
     "output_type": "stream",
     "text": [
      "100%|██████████| 360/360 [01:13<00:00,  4.89it/s]\n",
      "100%|██████████| 360/360 [00:07<00:00, 48.33it/s]\n"
     ]
    },
    {
     "name": "stdout",
     "output_type": "stream",
     "text": [
      "Working on block 15173314 (36/164)\n"
     ]
    },
    {
     "name": "stderr",
     "output_type": "stream",
     "text": [
      "100%|██████████| 299/299 [01:09<00:00,  4.29it/s]\n",
      "100%|██████████| 299/299 [00:07<00:00, 41.64it/s]\n"
     ]
    },
    {
     "name": "stdout",
     "output_type": "stream",
     "text": [
      "Working on block 15173315 (37/164)\n"
     ]
    },
    {
     "name": "stderr",
     "output_type": "stream",
     "text": [
      "100%|██████████| 435/435 [01:42<00:00,  4.24it/s]\n",
      "100%|██████████| 435/435 [00:10<00:00, 42.12it/s]\n"
     ]
    },
    {
     "name": "stdout",
     "output_type": "stream",
     "text": [
      "Working on block 15173316 (38/164)\n"
     ]
    },
    {
     "name": "stderr",
     "output_type": "stream",
     "text": [
      "100%|██████████| 653/653 [02:27<00:00,  4.41it/s]\n",
      "100%|██████████| 653/653 [00:16<00:00, 39.43it/s]\n"
     ]
    },
    {
     "name": "stdout",
     "output_type": "stream",
     "text": [
      "Working on block 15173321 (39/164)\n"
     ]
    },
    {
     "name": "stderr",
     "output_type": "stream",
     "text": [
      "100%|██████████| 348/348 [01:34<00:00,  3.69it/s]\n",
      "100%|██████████| 348/348 [00:10<00:00, 32.02it/s]\n"
     ]
    },
    {
     "name": "stdout",
     "output_type": "stream",
     "text": [
      "Working on block 15173322 (40/164)\n"
     ]
    },
    {
     "name": "stderr",
     "output_type": "stream",
     "text": [
      "100%|██████████| 396/396 [01:33<00:00,  4.22it/s]\n",
      "100%|██████████| 396/396 [00:09<00:00, 41.57it/s]\n"
     ]
    },
    {
     "name": "stdout",
     "output_type": "stream",
     "text": [
      "Working on block 15173324 (41/164)\n"
     ]
    },
    {
     "name": "stderr",
     "output_type": "stream",
     "text": [
      "100%|██████████| 470/470 [02:10<00:00,  3.60it/s]\n",
      "100%|██████████| 470/470 [00:13<00:00, 34.14it/s]\n"
     ]
    },
    {
     "name": "stdout",
     "output_type": "stream",
     "text": [
      "Working on block 15173329 (42/164)\n",
      "Working on block 15173330 (43/164)\n"
     ]
    },
    {
     "name": "stderr",
     "output_type": "stream",
     "text": [
      "100%|██████████| 582/582 [02:37<00:00,  3.70it/s]\n",
      "100%|██████████| 582/582 [00:15<00:00, 36.92it/s]\n"
     ]
    },
    {
     "name": "stdout",
     "output_type": "stream",
     "text": [
      "Working on block 15173331 (44/164)\n"
     ]
    },
    {
     "name": "stderr",
     "output_type": "stream",
     "text": [
      "100%|██████████| 586/586 [02:24<00:00,  4.05it/s]\n",
      "100%|██████████| 586/586 [00:13<00:00, 42.30it/s]\n"
     ]
    },
    {
     "name": "stdout",
     "output_type": "stream",
     "text": [
      "Working on block 15173339 (45/164)\n",
      "Working on block 15173340 (46/164)\n"
     ]
    },
    {
     "name": "stderr",
     "output_type": "stream",
     "text": [
      "100%|██████████| 664/664 [02:53<00:00,  3.82it/s]\n",
      "100%|██████████| 664/664 [00:16<00:00, 39.18it/s]\n"
     ]
    },
    {
     "name": "stdout",
     "output_type": "stream",
     "text": [
      "Working on block 15173341 (47/164)\n"
     ]
    },
    {
     "name": "stderr",
     "output_type": "stream",
     "text": [
      "100%|██████████| 623/623 [02:32<00:00,  4.09it/s]\n",
      "100%|██████████| 623/623 [00:15<00:00, 39.45it/s]\n"
     ]
    },
    {
     "name": "stdout",
     "output_type": "stream",
     "text": [
      "Working on block 15173347 (48/164)\n",
      "Working on block 15173349 (49/164)\n",
      "Working on block 15173351 (50/164)\n",
      "Working on block 15173352 (51/164)\n"
     ]
    },
    {
     "name": "stderr",
     "output_type": "stream",
     "text": [
      "100%|██████████| 518/518 [02:08<00:00,  4.02it/s]\n",
      "100%|██████████| 518/518 [00:12<00:00, 42.32it/s]\n"
     ]
    },
    {
     "name": "stdout",
     "output_type": "stream",
     "text": [
      "Working on block 15173354 (52/164)\n"
     ]
    },
    {
     "name": "stderr",
     "output_type": "stream",
     "text": [
      "100%|██████████| 692/692 [02:23<00:00,  4.82it/s]\n",
      "100%|██████████| 692/692 [00:14<00:00, 48.35it/s]\n"
     ]
    },
    {
     "name": "stdout",
     "output_type": "stream",
     "text": [
      "Working on block 15173363 (53/164)\n"
     ]
    },
    {
     "name": "stderr",
     "output_type": "stream",
     "text": [
      "100%|██████████| 468/468 [01:56<00:00,  4.03it/s]\n",
      "100%|██████████| 468/468 [00:14<00:00, 33.39it/s]\n"
     ]
    },
    {
     "name": "stdout",
     "output_type": "stream",
     "text": [
      "Working on block 15173365 (54/164)\n"
     ]
    },
    {
     "name": "stderr",
     "output_type": "stream",
     "text": [
      "100%|██████████| 298/298 [01:24<00:00,  3.52it/s]\n",
      "100%|██████████| 298/298 [00:07<00:00, 38.72it/s]\n"
     ]
    },
    {
     "name": "stdout",
     "output_type": "stream",
     "text": [
      "Working on block 15173366 (55/164)\n"
     ]
    },
    {
     "name": "stderr",
     "output_type": "stream",
     "text": [
      "100%|██████████| 544/544 [02:24<00:00,  3.76it/s]\n",
      "100%|██████████| 544/544 [00:13<00:00, 39.02it/s]\n"
     ]
    },
    {
     "name": "stdout",
     "output_type": "stream",
     "text": [
      "Working on block 15173374 (56/164)\n",
      "Working on block 15173379 (57/164)\n"
     ]
    },
    {
     "name": "stderr",
     "output_type": "stream",
     "text": [
      "100%|██████████| 556/556 [02:21<00:00,  3.94it/s]\n",
      "100%|██████████| 556/556 [00:13<00:00, 40.45it/s]\n"
     ]
    },
    {
     "name": "stdout",
     "output_type": "stream",
     "text": [
      "Working on block 15173382 (58/164)\n",
      "Working on block 15173383 (59/164)\n"
     ]
    },
    {
     "name": "stderr",
     "output_type": "stream",
     "text": [
      "100%|██████████| 487/487 [01:58<00:00,  4.11it/s]\n",
      "100%|██████████| 487/487 [00:12<00:00, 39.32it/s]\n"
     ]
    },
    {
     "name": "stdout",
     "output_type": "stream",
     "text": [
      "Working on block 15173394 (60/164)\n",
      "Working on block 15173398 (61/164)\n",
      "Working on block 15173401 (62/164)\n"
     ]
    },
    {
     "name": "stderr",
     "output_type": "stream",
     "text": [
      "100%|██████████| 313/313 [01:28<00:00,  3.53it/s]\n",
      "100%|██████████| 313/313 [00:08<00:00, 36.87it/s]\n"
     ]
    },
    {
     "name": "stdout",
     "output_type": "stream",
     "text": [
      "Working on block 15173408 (63/164)\n"
     ]
    },
    {
     "name": "stderr",
     "output_type": "stream",
     "text": [
      "100%|██████████| 407/407 [02:04<00:00,  3.27it/s]\n",
      "100%|██████████| 407/407 [00:11<00:00, 34.91it/s]\n"
     ]
    },
    {
     "name": "stdout",
     "output_type": "stream",
     "text": [
      "Working on block 15173414 (64/164)\n"
     ]
    },
    {
     "name": "stderr",
     "output_type": "stream",
     "text": [
      "100%|██████████| 291/291 [01:25<00:00,  3.39it/s]\n",
      "100%|██████████| 291/291 [00:10<00:00, 27.69it/s]\n"
     ]
    },
    {
     "name": "stdout",
     "output_type": "stream",
     "text": [
      "Working on block 15173416 (65/164)\n"
     ]
    },
    {
     "name": "stderr",
     "output_type": "stream",
     "text": [
      "100%|██████████| 610/610 [02:32<00:00,  4.01it/s]\n",
      "100%|██████████| 610/610 [00:14<00:00, 41.36it/s]\n"
     ]
    },
    {
     "name": "stdout",
     "output_type": "stream",
     "text": [
      "Working on block 15173419 (66/164)\n",
      "Working on block 15173427 (67/164)\n",
      "Working on block 15173429 (68/164)\n"
     ]
    },
    {
     "name": "stderr",
     "output_type": "stream",
     "text": [
      "100%|██████████| 494/494 [02:05<00:00,  3.94it/s]\n",
      "100%|██████████| 494/494 [00:13<00:00, 37.57it/s]\n"
     ]
    },
    {
     "name": "stdout",
     "output_type": "stream",
     "text": [
      "Working on block 15173432 (69/164)\n"
     ]
    },
    {
     "name": "stderr",
     "output_type": "stream",
     "text": [
      "100%|██████████| 583/583 [02:32<00:00,  3.83it/s]\n",
      "100%|██████████| 583/583 [00:15<00:00, 38.31it/s]\n"
     ]
    },
    {
     "name": "stdout",
     "output_type": "stream",
     "text": [
      "Working on block 15173434 (70/164)\n",
      "Working on block 15173438 (71/164)\n",
      "Working on block 15173441 (72/164)\n"
     ]
    },
    {
     "name": "stderr",
     "output_type": "stream",
     "text": [
      "100%|██████████| 306/306 [01:22<00:00,  3.69it/s]\n",
      "100%|██████████| 306/306 [00:07<00:00, 42.64it/s]\n"
     ]
    },
    {
     "name": "stdout",
     "output_type": "stream",
     "text": [
      "Working on block 15173442 (73/164)\n"
     ]
    },
    {
     "name": "stderr",
     "output_type": "stream",
     "text": [
      "100%|██████████| 700/700 [02:30<00:00,  4.66it/s]\n",
      "100%|██████████| 700/700 [00:15<00:00, 46.01it/s]\n"
     ]
    },
    {
     "name": "stdout",
     "output_type": "stream",
     "text": [
      "Working on block 15173452 (74/164)\n"
     ]
    },
    {
     "name": "stderr",
     "output_type": "stream",
     "text": [
      "100%|██████████| 569/569 [02:23<00:00,  3.95it/s]\n",
      "100%|██████████| 569/569 [00:14<00:00, 38.20it/s]\n"
     ]
    },
    {
     "name": "stdout",
     "output_type": "stream",
     "text": [
      "Working on block 15173457 (75/164)\n",
      "Working on block 15173458 (76/164)\n"
     ]
    },
    {
     "name": "stderr",
     "output_type": "stream",
     "text": [
      "100%|██████████| 349/349 [01:35<00:00,  3.65it/s]\n",
      "100%|██████████| 349/349 [00:09<00:00, 37.16it/s]\n"
     ]
    },
    {
     "name": "stdout",
     "output_type": "stream",
     "text": [
      "Working on block 15173461 (77/164)\n"
     ]
    },
    {
     "name": "stderr",
     "output_type": "stream",
     "text": [
      "100%|██████████| 554/554 [02:32<00:00,  3.63it/s]\n",
      "100%|██████████| 554/554 [00:15<00:00, 36.92it/s]\n"
     ]
    },
    {
     "name": "stdout",
     "output_type": "stream",
     "text": [
      "Working on block 15173462 (78/164)\n"
     ]
    },
    {
     "name": "stderr",
     "output_type": "stream",
     "text": [
      "100%|██████████| 550/550 [02:22<00:00,  3.87it/s]\n",
      "100%|██████████| 550/550 [00:14<00:00, 37.89it/s]\n"
     ]
    },
    {
     "name": "stdout",
     "output_type": "stream",
     "text": [
      "Working on block 15173467 (79/164)\n"
     ]
    },
    {
     "name": "stderr",
     "output_type": "stream",
     "text": [
      "100%|██████████| 553/553 [02:28<00:00,  3.72it/s]\n",
      "100%|██████████| 553/553 [00:14<00:00, 36.95it/s]\n"
     ]
    },
    {
     "name": "stdout",
     "output_type": "stream",
     "text": [
      "Working on block 15173470 (80/164)\n"
     ]
    },
    {
     "name": "stderr",
     "output_type": "stream",
     "text": [
      "100%|██████████| 277/277 [01:07<00:00,  4.08it/s]\n",
      "100%|██████████| 277/277 [00:06<00:00, 39.83it/s]\n"
     ]
    },
    {
     "name": "stdout",
     "output_type": "stream",
     "text": [
      "Working on block 15173472 (81/164)\n"
     ]
    },
    {
     "name": "stderr",
     "output_type": "stream",
     "text": [
      "100%|██████████| 588/588 [02:48<00:00,  3.49it/s]\n",
      "100%|██████████| 588/588 [00:19<00:00, 29.70it/s]\n"
     ]
    },
    {
     "name": "stdout",
     "output_type": "stream",
     "text": [
      "Working on block 15173474 (82/164)\n"
     ]
    },
    {
     "name": "stderr",
     "output_type": "stream",
     "text": [
      "100%|██████████| 471/471 [01:52<00:00,  4.19it/s]\n",
      "100%|██████████| 471/471 [00:14<00:00, 32.75it/s]\n"
     ]
    },
    {
     "name": "stdout",
     "output_type": "stream",
     "text": [
      "Working on block 15173481 (83/164)\n"
     ]
    },
    {
     "name": "stderr",
     "output_type": "stream",
     "text": [
      "100%|██████████| 309/309 [01:26<00:00,  3.59it/s]\n",
      "100%|██████████| 309/309 [00:08<00:00, 38.44it/s]\n"
     ]
    },
    {
     "name": "stdout",
     "output_type": "stream",
     "text": [
      "Working on block 15173485 (84/164)\n",
      "Working on block 15173486 (85/164)\n"
     ]
    },
    {
     "name": "stderr",
     "output_type": "stream",
     "text": [
      "100%|██████████| 855/855 [03:03<00:00,  4.67it/s]\n",
      "100%|██████████| 855/855 [00:18<00:00, 46.44it/s]\n"
     ]
    },
    {
     "name": "stdout",
     "output_type": "stream",
     "text": [
      "Working on block 15173491 (86/164)\n",
      "Working on block 15173493 (87/164)\n"
     ]
    },
    {
     "name": "stderr",
     "output_type": "stream",
     "text": [
      "100%|██████████| 412/412 [01:41<00:00,  4.08it/s]\n",
      "100%|██████████| 412/412 [00:10<00:00, 39.96it/s]\n"
     ]
    },
    {
     "name": "stdout",
     "output_type": "stream",
     "text": [
      "Working on block 15173504 (88/164)\n",
      "Working on block 15173505 (89/164)\n"
     ]
    },
    {
     "name": "stderr",
     "output_type": "stream",
     "text": [
      "100%|██████████| 742/742 [02:43<00:00,  4.53it/s]\n",
      "100%|██████████| 742/742 [00:16<00:00, 44.77it/s]\n"
     ]
    },
    {
     "name": "stdout",
     "output_type": "stream",
     "text": [
      "Working on block 15173508 (90/164)\n"
     ]
    },
    {
     "name": "stderr",
     "output_type": "stream",
     "text": [
      "100%|██████████| 343/343 [01:41<00:00,  3.39it/s]\n",
      "100%|██████████| 343/343 [00:10<00:00, 33.60it/s]\n"
     ]
    },
    {
     "name": "stdout",
     "output_type": "stream",
     "text": [
      "Working on block 15173512 (91/164)\n"
     ]
    },
    {
     "name": "stderr",
     "output_type": "stream",
     "text": [
      "100%|██████████| 299/299 [01:17<00:00,  3.87it/s]\n",
      "100%|██████████| 299/299 [00:07<00:00, 37.60it/s]\n"
     ]
    },
    {
     "name": "stdout",
     "output_type": "stream",
     "text": [
      "Working on block 15173515 (92/164)\n",
      "Working on block 15173519 (93/164)\n",
      "Working on block 15173524 (94/164)\n",
      "Working on block 15173526 (95/164)\n"
     ]
    },
    {
     "name": "stderr",
     "output_type": "stream",
     "text": [
      "100%|██████████| 515/515 [02:08<00:00,  4.00it/s]\n",
      "100%|██████████| 515/515 [00:13<00:00, 38.71it/s]\n"
     ]
    },
    {
     "name": "stdout",
     "output_type": "stream",
     "text": [
      "Working on block 15173528 (96/164)\n"
     ]
    },
    {
     "name": "stderr",
     "output_type": "stream",
     "text": [
      "100%|██████████| 486/486 [02:21<00:00,  3.43it/s]\n",
      "100%|██████████| 486/486 [00:14<00:00, 34.16it/s]\n"
     ]
    },
    {
     "name": "stdout",
     "output_type": "stream",
     "text": [
      "Working on block 15173530 (97/164)\n",
      "Working on block 15173534 (98/164)\n",
      "Working on block 15173537 (99/164)\n",
      "Working on block 15173543 (100/164)\n",
      "Working on block 15173547 (101/164)\n",
      "Working on block 15173548 (102/164)\n"
     ]
    },
    {
     "name": "stderr",
     "output_type": "stream",
     "text": [
      "100%|██████████| 750/750 [02:51<00:00,  4.37it/s]\n",
      "100%|██████████| 750/750 [00:17<00:00, 42.63it/s]\n"
     ]
    },
    {
     "name": "stdout",
     "output_type": "stream",
     "text": [
      "Working on block 15173553 (103/164)\n"
     ]
    },
    {
     "name": "stderr",
     "output_type": "stream",
     "text": [
      "100%|██████████| 474/474 [02:18<00:00,  3.41it/s]\n",
      "100%|██████████| 474/474 [00:14<00:00, 33.58it/s]\n"
     ]
    },
    {
     "name": "stdout",
     "output_type": "stream",
     "text": [
      "Working on block 15173554 (104/164)\n"
     ]
    },
    {
     "name": "stderr",
     "output_type": "stream",
     "text": [
      "100%|██████████| 416/416 [01:56<00:00,  3.56it/s]\n",
      "100%|██████████| 416/416 [00:12<00:00, 34.66it/s]\n"
     ]
    },
    {
     "name": "stdout",
     "output_type": "stream",
     "text": [
      "Working on block 15173557 (105/164)\n",
      "Working on block 15173560 (106/164)\n"
     ]
    },
    {
     "name": "stderr",
     "output_type": "stream",
     "text": [
      "100%|██████████| 390/390 [01:53<00:00,  3.44it/s]\n",
      "100%|██████████| 390/390 [00:11<00:00, 32.99it/s]\n"
     ]
    },
    {
     "name": "stdout",
     "output_type": "stream",
     "text": [
      "Working on block 15173566 (107/164)\n"
     ]
    },
    {
     "name": "stderr",
     "output_type": "stream",
     "text": [
      "100%|██████████| 359/359 [01:40<00:00,  3.57it/s]\n",
      "100%|██████████| 359/359 [00:10<00:00, 34.98it/s]\n"
     ]
    },
    {
     "name": "stdout",
     "output_type": "stream",
     "text": [
      "Working on block 15173568 (108/164)\n"
     ]
    },
    {
     "name": "stderr",
     "output_type": "stream",
     "text": [
      "100%|██████████| 489/489 [02:27<00:00,  3.33it/s]\n",
      "100%|██████████| 489/489 [00:15<00:00, 32.41it/s]\n"
     ]
    },
    {
     "name": "stdout",
     "output_type": "stream",
     "text": [
      "Working on block 15173569 (109/164)\n"
     ]
    },
    {
     "name": "stderr",
     "output_type": "stream",
     "text": [
      "100%|██████████| 428/428 [01:40<00:00,  4.24it/s]\n",
      "100%|██████████| 428/428 [00:10<00:00, 42.22it/s]\n"
     ]
    },
    {
     "name": "stdout",
     "output_type": "stream",
     "text": [
      "Working on block 15173575 (110/164)\n"
     ]
    },
    {
     "name": "stderr",
     "output_type": "stream",
     "text": [
      "100%|██████████| 420/420 [01:54<00:00,  3.66it/s]\n",
      "100%|██████████| 420/420 [00:11<00:00, 35.51it/s]\n"
     ]
    },
    {
     "name": "stdout",
     "output_type": "stream",
     "text": [
      "Working on block 15173579 (111/164)\n"
     ]
    },
    {
     "name": "stderr",
     "output_type": "stream",
     "text": [
      "100%|██████████| 391/391 [01:42<00:00,  3.80it/s]\n",
      "100%|██████████| 391/391 [00:11<00:00, 35.36it/s]\n"
     ]
    },
    {
     "name": "stdout",
     "output_type": "stream",
     "text": [
      "Working on block 15173585 (112/164)\n"
     ]
    },
    {
     "name": "stderr",
     "output_type": "stream",
     "text": [
      "100%|██████████| 401/401 [01:45<00:00,  3.82it/s]\n",
      "100%|██████████| 401/401 [00:10<00:00, 37.21it/s]\n"
     ]
    },
    {
     "name": "stdout",
     "output_type": "stream",
     "text": [
      "Working on block 15173587 (113/164)\n"
     ]
    },
    {
     "name": "stderr",
     "output_type": "stream",
     "text": [
      "100%|██████████| 479/479 [01:48<00:00,  4.40it/s]\n",
      "100%|██████████| 479/479 [00:11<00:00, 40.25it/s]\n"
     ]
    },
    {
     "name": "stdout",
     "output_type": "stream",
     "text": [
      "Working on block 15173592 (114/164)\n"
     ]
    },
    {
     "name": "stderr",
     "output_type": "stream",
     "text": [
      "100%|██████████| 460/460 [01:58<00:00,  3.87it/s]\n",
      "100%|██████████| 460/460 [00:11<00:00, 39.84it/s]\n"
     ]
    },
    {
     "name": "stdout",
     "output_type": "stream",
     "text": [
      "Working on block 15173593 (115/164)\n"
     ]
    },
    {
     "name": "stderr",
     "output_type": "stream",
     "text": [
      "100%|██████████| 762/762 [02:57<00:00,  4.30it/s]\n",
      "100%|██████████| 762/762 [00:19<00:00, 39.94it/s]\n"
     ]
    },
    {
     "name": "stdout",
     "output_type": "stream",
     "text": [
      "Working on block 15173596 (116/164)\n",
      "Working on block 15173598 (117/164)\n"
     ]
    },
    {
     "name": "stderr",
     "output_type": "stream",
     "text": [
      "100%|██████████| 778/778 [03:14<00:00,  3.99it/s]\n",
      "100%|██████████| 778/778 [00:18<00:00, 40.97it/s]\n"
     ]
    },
    {
     "name": "stdout",
     "output_type": "stream",
     "text": [
      "Working on block 15173599 (118/164)\n"
     ]
    },
    {
     "name": "stderr",
     "output_type": "stream",
     "text": [
      "100%|██████████| 909/909 [03:07<00:00,  4.86it/s]\n",
      "100%|██████████| 909/909 [00:18<00:00, 49.97it/s]\n"
     ]
    },
    {
     "name": "stdout",
     "output_type": "stream",
     "text": [
      "Working on block 15173605 (119/164)\n",
      "Working on block 15173609 (120/164)\n",
      "Working on block 15173613 (121/164)\n",
      "Working on block 15173617 (122/164)\n",
      "Working on block 15173620 (123/164)\n",
      "Working on block 15173621 (124/164)\n"
     ]
    },
    {
     "name": "stderr",
     "output_type": "stream",
     "text": [
      "100%|██████████| 552/552 [02:20<00:00,  3.93it/s]\n",
      "100%|██████████| 552/552 [00:13<00:00, 40.67it/s]\n"
     ]
    },
    {
     "name": "stdout",
     "output_type": "stream",
     "text": [
      "Working on block 15173629 (125/164)\n"
     ]
    },
    {
     "name": "stderr",
     "output_type": "stream",
     "text": [
      "100%|██████████| 539/539 [02:15<00:00,  3.97it/s]\n",
      "100%|██████████| 539/539 [00:14<00:00, 37.77it/s]\n"
     ]
    },
    {
     "name": "stdout",
     "output_type": "stream",
     "text": [
      "Working on block 15173635 (126/164)\n",
      "Working on block 15173639 (127/164)\n",
      "Working on block 15173648 (128/164)\n",
      "Working on block 15173650 (129/164)\n"
     ]
    },
    {
     "name": "stderr",
     "output_type": "stream",
     "text": [
      "100%|██████████| 480/480 [01:48<00:00,  4.41it/s]\n",
      "100%|██████████| 480/480 [00:10<00:00, 44.30it/s]\n"
     ]
    },
    {
     "name": "stdout",
     "output_type": "stream",
     "text": [
      "Working on block 15173655 (130/164)\n"
     ]
    },
    {
     "name": "stderr",
     "output_type": "stream",
     "text": [
      "100%|██████████| 679/679 [02:36<00:00,  4.34it/s]\n",
      "100%|██████████| 679/679 [00:15<00:00, 42.87it/s]\n"
     ]
    },
    {
     "name": "stdout",
     "output_type": "stream",
     "text": [
      "Working on block 15173664 (131/164)\n",
      "Working on block 15173665 (132/164)\n"
     ]
    },
    {
     "name": "stderr",
     "output_type": "stream",
     "text": [
      "100%|██████████| 732/732 [02:29<00:00,  4.91it/s]\n",
      "100%|██████████| 732/732 [00:14<00:00, 49.09it/s]\n"
     ]
    },
    {
     "name": "stdout",
     "output_type": "stream",
     "text": [
      "Working on block 15173676 (133/164)\n"
     ]
    },
    {
     "name": "stderr",
     "output_type": "stream",
     "text": [
      "100%|██████████| 185/185 [00:54<00:00,  3.37it/s]\n",
      "100%|██████████| 185/185 [00:05<00:00, 33.08it/s]\n"
     ]
    },
    {
     "name": "stdout",
     "output_type": "stream",
     "text": [
      "Working on block 15173680 (134/164)\n",
      "Working on block 15173686 (135/164)\n"
     ]
    },
    {
     "name": "stderr",
     "output_type": "stream",
     "text": [
      "100%|██████████| 367/367 [01:32<00:00,  3.95it/s]\n",
      "100%|██████████| 367/367 [00:09<00:00, 39.45it/s]\n"
     ]
    },
    {
     "name": "stdout",
     "output_type": "stream",
     "text": [
      "Working on block 15173691 (136/164)\n"
     ]
    },
    {
     "name": "stderr",
     "output_type": "stream",
     "text": [
      "100%|██████████| 530/530 [02:11<00:00,  4.02it/s]\n",
      "100%|██████████| 530/530 [00:13<00:00, 38.39it/s]\n"
     ]
    },
    {
     "name": "stdout",
     "output_type": "stream",
     "text": [
      "Working on block 15173697 (137/164)\n",
      "Working on block 15173701 (138/164)\n"
     ]
    },
    {
     "name": "stderr",
     "output_type": "stream",
     "text": [
      "100%|██████████| 313/313 [01:21<00:00,  3.85it/s]\n",
      "100%|██████████| 313/313 [00:08<00:00, 38.24it/s]\n"
     ]
    },
    {
     "name": "stdout",
     "output_type": "stream",
     "text": [
      "Working on block 15173704 (139/164)\n"
     ]
    },
    {
     "name": "stderr",
     "output_type": "stream",
     "text": [
      "100%|██████████| 552/552 [02:18<00:00,  3.97it/s]\n",
      "100%|██████████| 552/552 [00:14<00:00, 38.54it/s]\n"
     ]
    },
    {
     "name": "stdout",
     "output_type": "stream",
     "text": [
      "Working on block 15173707 (140/164)\n"
     ]
    },
    {
     "name": "stderr",
     "output_type": "stream",
     "text": [
      "100%|██████████| 473/473 [02:11<00:00,  3.60it/s]\n",
      "100%|██████████| 473/473 [00:13<00:00, 35.34it/s]\n"
     ]
    },
    {
     "name": "stdout",
     "output_type": "stream",
     "text": [
      "Working on block 15173711 (141/164)\n",
      "Working on block 15173713 (142/164)\n"
     ]
    },
    {
     "name": "stderr",
     "output_type": "stream",
     "text": [
      "100%|██████████| 512/512 [02:06<00:00,  4.04it/s]\n",
      "100%|██████████| 512/512 [00:12<00:00, 39.39it/s]\n"
     ]
    },
    {
     "name": "stdout",
     "output_type": "stream",
     "text": [
      "Working on block 15173715 (143/164)\n"
     ]
    },
    {
     "name": "stderr",
     "output_type": "stream",
     "text": [
      "100%|██████████| 892/892 [03:25<00:00,  4.33it/s]\n",
      "100%|██████████| 892/892 [00:20<00:00, 43.13it/s]\n"
     ]
    },
    {
     "name": "stdout",
     "output_type": "stream",
     "text": [
      "Working on block 15173716 (144/164)\n"
     ]
    },
    {
     "name": "stderr",
     "output_type": "stream",
     "text": [
      "100%|██████████| 1091/1091 [03:46<00:00,  4.82it/s]\n",
      "100%|██████████| 1091/1091 [00:22<00:00, 48.10it/s]\n"
     ]
    },
    {
     "name": "stdout",
     "output_type": "stream",
     "text": [
      "Working on block 15173727 (145/164)\n"
     ]
    },
    {
     "name": "stderr",
     "output_type": "stream",
     "text": [
      "100%|██████████| 517/517 [02:26<00:00,  3.52it/s]\n",
      "100%|██████████| 517/517 [00:14<00:00, 35.20it/s]\n"
     ]
    },
    {
     "name": "stdout",
     "output_type": "stream",
     "text": [
      "Working on block 15173729 (146/164)\n"
     ]
    },
    {
     "name": "stderr",
     "output_type": "stream",
     "text": [
      "100%|██████████| 371/371 [01:46<00:00,  3.49it/s]\n",
      "100%|██████████| 371/371 [00:10<00:00, 35.27it/s]\n"
     ]
    },
    {
     "name": "stdout",
     "output_type": "stream",
     "text": [
      "Working on block 15173733 (147/164)\n",
      "Working on block 15173734 (148/164)\n"
     ]
    },
    {
     "name": "stderr",
     "output_type": "stream",
     "text": [
      "100%|██████████| 811/811 [03:27<00:00,  3.91it/s]\n",
      "100%|██████████| 811/811 [00:20<00:00, 39.62it/s]\n"
     ]
    },
    {
     "name": "stdout",
     "output_type": "stream",
     "text": [
      "Working on block 15173746 (149/164)\n"
     ]
    },
    {
     "name": "stderr",
     "output_type": "stream",
     "text": [
      "100%|██████████| 349/349 [01:37<00:00,  3.59it/s]\n",
      "100%|██████████| 349/349 [00:09<00:00, 35.80it/s]\n"
     ]
    },
    {
     "name": "stdout",
     "output_type": "stream",
     "text": [
      "Working on block 15173757 (150/164)\n"
     ]
    },
    {
     "name": "stderr",
     "output_type": "stream",
     "text": [
      "100%|██████████| 553/553 [02:33<00:00,  3.61it/s]\n",
      "100%|██████████| 553/553 [00:15<00:00, 34.95it/s]\n"
     ]
    },
    {
     "name": "stdout",
     "output_type": "stream",
     "text": [
      "Working on block 15173759 (151/164)\n"
     ]
    },
    {
     "name": "stderr",
     "output_type": "stream",
     "text": [
      "100%|██████████| 471/471 [01:43<00:00,  4.55it/s]\n",
      "100%|██████████| 471/471 [00:10<00:00, 46.22it/s]\n"
     ]
    },
    {
     "name": "stdout",
     "output_type": "stream",
     "text": [
      "Working on block 15173775 (152/164)\n"
     ]
    },
    {
     "name": "stderr",
     "output_type": "stream",
     "text": [
      "100%|██████████| 364/364 [01:44<00:00,  3.50it/s]\n",
      "100%|██████████| 364/364 [00:10<00:00, 34.95it/s]\n"
     ]
    },
    {
     "name": "stdout",
     "output_type": "stream",
     "text": [
      "Working on block 15173782 (153/164)\n"
     ]
    },
    {
     "name": "stderr",
     "output_type": "stream",
     "text": [
      "100%|██████████| 709/709 [02:45<00:00,  4.27it/s]\n",
      "100%|██████████| 709/709 [00:17<00:00, 39.45it/s]\n"
     ]
    },
    {
     "name": "stdout",
     "output_type": "stream",
     "text": [
      "Working on block 15173787 (154/164)\n",
      "Working on block 15173789 (155/164)\n"
     ]
    },
    {
     "name": "stderr",
     "output_type": "stream",
     "text": [
      "100%|██████████| 805/805 [03:19<00:00,  4.04it/s]\n",
      "100%|██████████| 805/805 [00:19<00:00, 41.91it/s]\n"
     ]
    },
    {
     "name": "stdout",
     "output_type": "stream",
     "text": [
      "Working on block 15173796 (156/164)\n",
      "Working on block 15173804 (157/164)\n",
      "Working on block 15173810 (158/164)\n"
     ]
    },
    {
     "name": "stderr",
     "output_type": "stream",
     "text": [
      "100%|██████████| 650/650 [02:15<00:00,  4.80it/s]\n",
      "100%|██████████| 650/650 [00:15<00:00, 42.74it/s]\n"
     ]
    },
    {
     "name": "stdout",
     "output_type": "stream",
     "text": [
      "Working on block 15173818 (159/164)\n"
     ]
    },
    {
     "name": "stderr",
     "output_type": "stream",
     "text": [
      "100%|██████████| 280/280 [01:17<00:00,  3.63it/s]\n",
      "100%|██████████| 280/280 [00:07<00:00, 35.55it/s]\n"
     ]
    },
    {
     "name": "stdout",
     "output_type": "stream",
     "text": [
      "Working on block 15173825 (160/164)\n"
     ]
    },
    {
     "name": "stderr",
     "output_type": "stream",
     "text": [
      "100%|██████████| 343/343 [01:29<00:00,  3.84it/s]\n",
      "100%|██████████| 343/343 [00:09<00:00, 37.59it/s]\n"
     ]
    },
    {
     "name": "stdout",
     "output_type": "stream",
     "text": [
      "Working on block 15173833 (161/164)\n"
     ]
    },
    {
     "name": "stderr",
     "output_type": "stream",
     "text": [
      "100%|██████████| 483/483 [02:14<00:00,  3.58it/s]\n",
      "100%|██████████| 483/483 [00:13<00:00, 35.00it/s]\n"
     ]
    },
    {
     "name": "stdout",
     "output_type": "stream",
     "text": [
      "Working on block 15173835 (162/164)\n"
     ]
    },
    {
     "name": "stderr",
     "output_type": "stream",
     "text": [
      "100%|██████████| 641/641 [02:28<00:00,  4.32it/s]\n",
      "100%|██████████| 641/641 [00:15<00:00, 40.60it/s]\n"
     ]
    },
    {
     "name": "stdout",
     "output_type": "stream",
     "text": [
      "Working on block 15173843 (163/164)\n"
     ]
    },
    {
     "name": "stderr",
     "output_type": "stream",
     "text": [
      "100%|██████████| 524/524 [02:27<00:00,  3.56it/s]\n",
      "100%|██████████| 524/524 [00:14<00:00, 36.71it/s]\n"
     ]
    },
    {
     "name": "stdout",
     "output_type": "stream",
     "text": [
      "Working on block 15173852 (164/164)\n"
     ]
    },
    {
     "name": "stderr",
     "output_type": "stream",
     "text": [
      "100%|██████████| 363/363 [01:56<00:00,  3.12it/s]\n",
      "100%|██████████| 363/363 [00:11<00:00, 30.53it/s]\n"
     ]
    }
   ],
   "source": [
    "results = {}\n",
    "block_numbers = pending_blocks\n",
    "num_blocks = len(block_numbers)\n",
    "count = 1\n",
    "\n",
    "for block_number in block_numbers:\n",
    "    print(f'Working on block {block_number} ({count}/{num_blocks})')\n",
    "    count += 1\n",
    "    results[block_number] = compare_block_packings(block_number, weight_factors, belowGasLimit=True,\n",
    "                                                   includeMinedTxs=True, verbose=False)"
   ]
  },
  {
   "cell_type": "code",
   "execution_count": 69,
   "metadata": {},
   "outputs": [],
   "source": [
    "# Save the results from all block packings\n",
    "with open('compare_packings.pkl','wb') as f:\n",
    "    pickle.dump(results, f)"
   ]
  },
  {
   "cell_type": "code",
   "execution_count": 13,
   "metadata": {},
   "outputs": [],
   "source": [
    "# Load the results from all block packings\n",
    "with open('compare_packings.pkl','rb') as f:\n",
    "    results = pickle.load(f)"
   ]
  },
  {
   "cell_type": "code",
   "execution_count": 14,
   "metadata": {},
   "outputs": [
    {
     "data": {
      "image/png": "[encoded data removed]",
      "text/plain": [
       "<Figure size 1332x756 with 6 Axes>"
      ]
     },
     "metadata": {
      "needs_background": "light"
     },
     "output_type": "display_data"
    }
   ],
   "source": [
    "plot_block_comparison(results)"
   ]
  },
  {
   "cell_type": "code",
   "execution_count": 66,
   "metadata": {},
   "outputs": [
    {
     "data": {
      "image/png": "[encoded data removed]",
      "text/plain": [
       "<Figure size 1332x756 with 6 Axes>"
      ]
     },
     "metadata": {
      "needs_background": "light"
     },
     "output_type": "display_data"
    }
   ],
   "source": [
    "plot_block_comparison(results)"
   ]
  },
  {
   "cell_type": "code",
   "execution_count": 181,
   "metadata": {},
   "outputs": [],
   "source": [
    "# Determine how many transactions in each mined block were ever seen as pending transactions\n",
    "seen_pending = query(f'''WITH block_nums AS (\n",
    "                    SELECT DISTINCT lastBlock\n",
    "                    FROM pending_txs\n",
    "                        INNER JOIN blocks\n",
    "                        ON pending_txs.lastBlock = blocks.blockNumber),\n",
    "                stage_txs AS (\n",
    "                    SELECT *\n",
    "                    FROM txs\n",
    "                    WHERE blockNumber IN block_nums)\n",
    "                SELECT blockNumber, COUNT(DISTINCT stage_txs.hash)\n",
    "                FROM stage_txs\n",
    "                    JOIN pending_txs\n",
    "                    ON stage_txs.hash = pending_txs.hash\n",
    "                WHERE lastBlock <= blockNumber\n",
    "                GROUP BY blockNumber\n",
    "                ORDER BY blockNumber''')\n",
    "\n",
    "all_confirmed = query(f'''WITH block_nums AS (\n",
    "                    SELECT DISTINCT lastBlock\n",
    "                    FROM pending_txs\n",
    "                        INNER JOIN blocks\n",
    "                        ON pending_txs.lastBlock = blocks.blockNumber),\n",
    "                stage_txs AS (\n",
    "                    SELECT *\n",
    "                    FROM txs\n",
    "                    WHERE blockNumber IN block_nums)\n",
    "                SELECT blockNumber, COUNT(DISTINCT stage_txs.hash)\n",
    "                FROM stage_txs\n",
    "                GROUP BY blockNumber\n",
    "                ORDER BY blockNumber''')\n",
    "\n",
    "# Populate seen and unseen transactions from mined blocks\n",
    "for (block_num, num_confirmed) in all_confirmed:\n",
    "    results[block_num]['num_real_txs'] = num_confirmed\n",
    "    \n",
    "for (block_num, num_seen) in seen_pending:\n",
    "    results[block_num]['num_seen_real'] = num_seen\n",
    "    \n",
    "# If we didn't have a value, enter zero\n",
    "for block_num in results.keys():\n",
    "    if 'num_real_txs' not in results[block_num]:\n",
    "        results[block_num]['num_real_txs'] = 0\n",
    "    if 'num_seen_real' not in results[block_num]:\n",
    "        results[block_num]['num_seen_real'] = 0"
   ]
  },
  {
   "cell_type": "code",
   "execution_count": 29,
   "metadata": {},
   "outputs": [],
   "source": [
    "for block_number, v in results.items():\n",
    "    # Determine which transactions were actually packed in this block, and how many were ever available\n",
    "    # as pending transactions\n",
    "    real_txs = query(f'SELECT DISTINCT hash, gasUsed, gasPrice FROM txs WHERE blockNumber = {block_number}')\n",
    "    v['num_real_txs'] = len(real_txs)\n",
    "    seen_txs = query(f'''SELECT DISTINCT txs.hash, txs.gasUsed\n",
    "                         FROM txs\n",
    "                             JOIN pending_txs\n",
    "                             ON txs.hash = pending_txs.hash\n",
    "                         WHERE blockNumber = {block_number}\n",
    "                         AND lastBlock <= {block_number}''')\n",
    "    v['num_seen_real'] = len(seen_txs)\n",
    "    \n",
    "    # Percentage of transactions that were never in pending pool\n",
    "    v['pct_seen_txs'] = 0 if len(real_txs) == 0 else len(seen_txs) / len(real_txs) * 100\n",
    "    \n",
    "    # Percentage of the total weight of this block that is filled by transactions that were\n",
    "    # never in the pending pool\n",
    "    weight_in_pool = sum([s[1] for s in seen_txs])\n",
    "    total_weight = sum([r[1] for r in real_txs])\n",
    "    v['pct_seen_by_weight'] = 0 if total_weight == 0 else weight_in_pool / total_weight * 100\n",
    "    \n",
    "    # Revenue earned in this block that came from transactions that were never in the pending pool\n",
    "    seen_set = set([s[0] for s in seen_txs])\n",
    "    v['revenue_from_seen'] = sum([r[1] * r[2] if r[0] in seen_set else 0 for r in real_txs])\n",
    "    v['revenue_from_unseen'] = sum([r[1] * r[2] if r[0] not in seen_set else 0 for r in real_txs])"
   ]
  },
  {
   "cell_type": "code",
   "execution_count": null,
   "metadata": {},
   "outputs": [],
   "source": []
  }
 ],
 "metadata": {
  "kernelspec": {
   "display_name": "Python 3",
   "language": "python",
   "name": "python3"
  },
  "language_info": {
   "codemirror_mode": {
    "name": "ipython",
    "version": 3
   },
   "file_extension": ".py",
   "mimetype": "text/x-python",
   "name": "python",
   "nbconvert_exporter": "python",
   "pygments_lexer": "ipython3",
   "version": "3.7.7"
  }
 },
 "nbformat": 4,
 "nbformat_minor": 4
}
